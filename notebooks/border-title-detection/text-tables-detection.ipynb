{
 "cells": [
  {
   "cell_type": "code",
   "id": "initial_id",
   "metadata": {
    "collapsed": true,
    "ExecuteTime": {
     "end_time": "2025-05-07T11:12:33.143464Z",
     "start_time": "2025-05-07T11:12:29.124623Z"
    }
   },
   "source": [
    "from glob import glob\n",
    "import os\n",
    "\n",
    "import cv2\n",
    "import numpy as np\n",
    "import torch\n",
    "from PIL import Image\n",
    "from pdf2image import convert_from_path\n",
    "from tqdm import tqdm\n",
    "from scoring import *\n",
    "from border_and_title import *\n",
    "\n",
    "good = list(glob(\"../../data/original/Good/*.pdf\"))\n",
    "ugly = list(glob(\"../../data/original/Ugly/*.pdf\"))\n",
    "\n",
    "len(good), len(ugly)"
   ],
   "outputs": [
    {
     "name": "stderr",
     "output_type": "stream",
     "text": [
      "/home/sadid/anaconda3/lib/python3.12/site-packages/torch/cuda/__init__.py:141: UserWarning: CUDA initialization: Unexpected error from cudaGetDeviceCount(). Did you run some cuda functions before calling NumCudaDevices() that might have already set an error? Error 804: forward compatibility was attempted on non supported HW (Triggered internally at ../c10/cuda/CUDAFunctions.cpp:108.)\n",
      "  return torch._C._cuda_getDeviceCount() > 0\n"
     ]
    },
    {
     "data": {
      "text/plain": [
       "(16, 25)"
      ]
     },
     "execution_count": 1,
     "metadata": {},
     "output_type": "execute_result"
    }
   ],
   "execution_count": 1
  },
  {
   "metadata": {
    "ExecuteTime": {
     "end_time": "2025-05-07T11:12:33.199916Z",
     "start_time": "2025-05-07T11:12:33.192724Z"
    }
   },
   "cell_type": "code",
   "source": [
    "def process(files, output_dir):\n",
    "    os.makedirs(output_dir, exist_ok=True)\n",
    "    font = cv2.FONT_HERSHEY_SIMPLEX\n",
    "    fontScale = 1\n",
    "    color = (0, 255, 0)\n",
    "    thickness = 2\n",
    "\n",
    "    progress = tqdm(total=len(files))\n",
    "\n",
    "    for f in files:\n",
    "        pages = convert_from_path(f, dpi=300)\n",
    "        img = np.array(pages[0])\n",
    "        img = im_resize(img)\n",
    "        img_comp = img.copy()\n",
    "        im_h, im_w, _ = img.shape\n",
    "\n",
    "        sorted_indices, contours, hierarchy_area = detect_objects(img)\n",
    "        title_contours, line_90, data = detect_probable_title_sections(img, return_states=True)\n",
    "        ocr_result = data[\"ocr_result\"]\n",
    "        mask = data[\"mask\"]\n",
    "        inner_border_lines = data[\"inner_border_lines\"]\n",
    "        words = process_text(ocr_result, im_h, im_w)\n",
    "\n",
    "        border_1, border_2 = detect_borders(contours, sorted_indices, words)\n",
    "        (x1, y1), (x2, y2) = border_1\n",
    "        cv2.rectangle(img_comp, (x1, y1), (x2, y2), color, thickness)\n",
    "        (x1, y1), (x2, y2) = border_2\n",
    "        cv2.rectangle(img_comp, (x1, y1), (x2, y2), color, thickness)\n",
    "\n",
    "        for line in inner_border_lines:\n",
    "            x1, y1, x2, y2 = line\n",
    "            cv2.line(img_comp, (x1, y1), (x2, y2), color, thickness)\n",
    "\n",
    "        contours = detect_text_tables(img, words, mask)\n",
    "        title_contours = title_contours + contours\n",
    "\n",
    "        # bb = []\n",
    "        # for cnt in contours:\n",
    "        #     x, y, w, h = cv2.boundingRect(cnt)\n",
    "        #     aspect_ratio = w / float(h)\n",
    "        #     area = w * h\n",
    "        #\n",
    "        #     if area > 7000 and 1.3 < aspect_ratio < 10:\n",
    "        #         if y > int((im_h * 70) / 100) and y+h > int((im_h * 93) / 100):\n",
    "        #             cv2.rectangle(img_comp, (x, y), (x + w, y + h), (255, 0, 0), 10)\n",
    "        #             bb.append((x, y, x+w, y+h))\n",
    "        #         elif y > int((im_h * 80) / 100) and y+h > int((im_h * 90) / 100):\n",
    "        #             cv2.rectangle(img_comp, (x, y), (x + w, y + h), (255, 0, 0), 10)\n",
    "        #             bb.append((x, y, x+w, y+h))\n",
    "\n",
    "        bb = []\n",
    "        for cnt in title_contours:\n",
    "            x, y, w, h = cv2.boundingRect(cnt)\n",
    "            x1 = x + w\n",
    "            y1 = y + h\n",
    "            aspect_ratio = w / float(h)\n",
    "            area = w * h\n",
    "\n",
    "            if area > 7000 and 1.3 < aspect_ratio < 10:\n",
    "                ratio = table_content_score(((x, y), (x1, y1)), words)\n",
    "\n",
    "                if ratio <= 1:\n",
    "                    if y > int((im_h * 70) / 100) and y+h > int((im_h * 93) / 100):\n",
    "                        # cv2.rectangle(img_comp, (x, y), (x1, y1), (100, 0, 0), 3)\n",
    "                        bb.append((x, y, x1, y1))\n",
    "                        # cv2.putText(img_comp, f\"{ratio:.2f}\", (x, y-10), font, fontScale, color, thickness)\n",
    "\n",
    "                    elif y > int((im_h * 80) / 100) and y1 > int((im_h * 90) / 100):\n",
    "                        # cv2.rectangle(img_comp, (x, y), (x1, y1), (180, 0, 0), 3)\n",
    "                        bb.append((x, y, x1, y+h))\n",
    "                        # cv2.putText(img_comp, f\"{ratio:.2f}\", (x, y-10), font, fontScale, color, thickness)\n",
    "                # else:\n",
    "                #     cv2.rectangle(img_comp, (x, y), (x1, y1), (0, 255, 0), 3)\n",
    "                #     cv2.putText(img_comp, f\"{ratio:.2f}\", (x, y-10), font, fontScale, (0, 255, 0), thickness)\n",
    "        try:\n",
    "            bb = np.array(bb)\n",
    "\n",
    "            if line_90 is not None:\n",
    "                x1, y1, x2, y2 = line_90\n",
    "                x1 = border_2[0][0]\n",
    "                x2 = border_2[1][0]\n",
    "                # cv2.line(img_comp, (x1, y1), (x2, y2), color, 5)\n",
    "            else:\n",
    "                x2 = bb[:, 2].max()\n",
    "                x1 = bb[:, 0].min()\n",
    "                y1 = bb[:, 1].min()\n",
    "                y2 = border_2[1][1]\n",
    "\n",
    "                if abs(border_2[1][0] - bb[:, 2].max()) < 50:\n",
    "                    x2 = border_2[1][0]\n",
    "\n",
    "                if abs(border_2[0][0] - bb[:, 0].min()) < 50:\n",
    "                    x1 = border_2[0][0]\n",
    "\n",
    "            cv2.rectangle(img_comp, (x1, y1), (x2, y2), color, thickness)\n",
    "        except IndexError:\n",
    "            print(f)\n",
    "            print(bb)\n",
    "\n",
    "        cv2.imwrite(f\"{output_dir}/{os.path.basename(f)}.jpg\", img_comp)\n",
    "        progress.update(1)"
   ],
   "id": "3ba536accd8ea2fc",
   "outputs": [],
   "execution_count": 2
  },
  {
   "metadata": {
    "ExecuteTime": {
     "end_time": "2025-05-07T11:14:28.232326Z",
     "start_time": "2025-05-07T11:12:33.239080Z"
    }
   },
   "cell_type": "code",
   "source": [
    "process(ugly, \"../../data/text-tables-detection/ugly\")\n",
    "process(good, \"../../data/text-tables-detection/good\")"
   ],
   "id": "b69f4617051dad2e",
   "outputs": [
    {
     "name": "stderr",
     "output_type": "stream",
     "text": [
      " 28%|██▊       | 7/25 [00:17<00:45,  2.53s/it]/home/sadid/anaconda3/lib/python3.12/site-packages/PIL/Image.py:3186: DecompressionBombWarning: Image size (139513096 pixels) exceeds limit of 89478485 pixels, could be decompression bomb DOS attack.\n",
      "  warnings.warn(\n",
      " 96%|█████████▌| 24/25 [00:59<00:02,  2.64s/it]/home/sadid/anaconda3/lib/python3.12/site-packages/PIL/Image.py:3186: DecompressionBombWarning: Image size (139513096 pixels) exceeds limit of 89478485 pixels, could be decompression bomb DOS attack.\n",
      "  warnings.warn(\n",
      "100%|██████████| 25/25 [01:02<00:00,  2.50s/it]\n",
      " 38%|███▊      | 6/16 [00:17<00:26,  2.68s/it]"
     ]
    },
    {
     "name": "stdout",
     "output_type": "stream",
     "text": [
      "../../data/original/Good/Apple.pdf\n",
      "[]\n"
     ]
    },
    {
     "name": "stderr",
     "output_type": "stream",
     "text": [
      "100%|██████████| 16/16 [00:52<00:00,  3.29s/it]\n"
     ]
    }
   ],
   "execution_count": 3
  },
  {
   "metadata": {
    "ExecuteTime": {
     "end_time": "2025-05-07T11:14:28.245656Z",
     "start_time": "2025-05-07T11:14:28.244128Z"
    }
   },
   "cell_type": "code",
   "source": "",
   "id": "5577809c1191bea1",
   "outputs": [],
   "execution_count": null
  }
 ],
 "metadata": {
  "kernelspec": {
   "display_name": "Python 3",
   "language": "python",
   "name": "python3"
  },
  "language_info": {
   "codemirror_mode": {
    "name": "ipython",
    "version": 2
   },
   "file_extension": ".py",
   "mimetype": "text/x-python",
   "name": "python",
   "nbconvert_exporter": "python",
   "pygments_lexer": "ipython2",
   "version": "2.7.6"
  }
 },
 "nbformat": 4,
 "nbformat_minor": 5
}
