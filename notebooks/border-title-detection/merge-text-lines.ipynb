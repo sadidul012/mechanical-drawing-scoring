{
 "cells": [
  {
   "cell_type": "code",
   "id": "initial_id",
   "metadata": {
    "collapsed": true,
    "ExecuteTime": {
     "end_time": "2025-05-05T06:35:44.005245Z",
     "start_time": "2025-05-05T06:35:43.187877Z"
    }
   },
   "source": [
    "from glob import glob\n",
    "import os\n",
    "\n",
    "import cv2\n",
    "import numpy as np\n",
    "import torch\n",
    "from PIL import Image\n",
    "from pdf2image import convert_from_path\n",
    "from imutils import resize\n",
    "from tqdm import tqdm\n",
    "from scoring import *\n",
    "\n",
    "good = list(glob(\"../../data/original/Good/*.pdf\"))\n",
    "ugly = list(glob(\"../../data/original/Ugly/*.pdf\"))\n",
    "\n",
    "len(good), len(ugly)"
   ],
   "outputs": [
    {
     "data": {
      "text/plain": [
       "(16, 25)"
      ]
     },
     "execution_count": 1,
     "metadata": {},
     "output_type": "execute_result"
    }
   ],
   "execution_count": 1
  },
  {
   "metadata": {
    "ExecuteTime": {
     "end_time": "2025-05-05T06:35:47.277007Z",
     "start_time": "2025-05-05T06:35:44.046099Z"
    }
   },
   "cell_type": "code",
   "source": [
    "from doctr.models import ocr_predictor\n",
    "\n",
    "\n",
    "ocr_model = ocr_predictor('db_resnet50', 'crnn_vgg16_bn', pretrained=True)\n",
    "ocr_model.to(torch.device('cuda') if torch.cuda.is_available() else torch.device('cpu'))\n",
    "\n",
    "\n",
    "def process(files, output_dir):\n",
    "    os.makedirs(output_dir, exist_ok=True)\n",
    "    font = cv2.FONT_HERSHEY_SIMPLEX\n",
    "    fontScale = 1\n",
    "    color = (255, 0, 0)\n",
    "    thickness = 2\n",
    "\n",
    "    progress = tqdm(total=len(files))\n",
    "\n",
    "    for f in files:\n",
    "        pages = convert_from_path(f, dpi=300)\n",
    "        img = np.array(pages[0])\n",
    "        img = im_resize(img)\n",
    "        img_comp = img.copy()\n",
    "\n",
    "        gray = cv2.cvtColor(img, cv2.COLOR_BGR2GRAY)\n",
    "        _, img_bin = cv2.threshold(gray, 200, 255, cv2.THRESH_BINARY_INV)\n",
    "        image_height, image_width = img_bin.shape\n",
    "\n",
    "        SCALE = 40\n",
    "        vertical_kernel = cv2.getStructuringElement(cv2.MORPH_RECT, (1, image_height // SCALE))\n",
    "        vertically_opened = cv2.morphologyEx(img_bin, cv2.MORPH_OPEN, vertical_kernel)\n",
    "        vertical_lines = cv2.dilate(vertically_opened, cv2.getStructuringElement(cv2.MORPH_RECT, (2, 40)))\n",
    "\n",
    "        horizontal_kernel = cv2.getStructuringElement(cv2.MORPH_RECT, (image_width // SCALE, 1))\n",
    "        horizontally_opened = cv2.morphologyEx(img_bin, cv2.MORPH_OPEN, horizontal_kernel)\n",
    "        horizontal_lines = cv2.dilate(horizontally_opened, cv2.getStructuringElement(cv2.MORPH_RECT, (40, 2)))\n",
    "\n",
    "        mask = vertical_lines + horizontal_lines\n",
    "        mask_comp = mask.copy()\n",
    "\n",
    "        ocr_result = ocr_model([img_comp])\n",
    "        h, w, _ = img_comp.shape\n",
    "\n",
    "        for block in ocr_result.pages[0].blocks:\n",
    "            for line in block.lines:\n",
    "                for word in line.words:\n",
    "                    (x_min, y_min), (x_max, y_max) = word.geometry\n",
    "                    x_min = int(x_min * w)\n",
    "                    y_min = int(y_min * h)\n",
    "                    x_max = int(x_max * w)\n",
    "                    y_max = int(y_max * h)\n",
    "\n",
    "                    cv2.rectangle(mask_comp, (x_min, y_min), (x_max, y_max), (255, 255, 255), cv2.FILLED)\n",
    "                    cv2.rectangle(img_comp, (x_min, y_min), (x_max, y_max), (0, 255, 0), thickness)\n",
    "\n",
    "        mask_comp = cv2.dilate(mask_comp, np.ones((5, 5), np.uint8), iterations=5)\n",
    "        mask_comp = cv2.erode(mask_comp, np.ones((8, 8), np.uint8), iterations=5)\n",
    "        mask_comp = cv2.dilate(mask_comp, np.ones((10, 10), np.uint8), iterations=3)\n",
    "\n",
    "        # gray = cv2.cvtColor(mask_comp, cv2.COLOR_BGR2GRAY)\n",
    "        _, binary = cv2.threshold(mask_comp, 128, 255, cv2.THRESH_BINARY)\n",
    "        contours, hierarchy = cv2.findContours(binary, cv2.RETR_EXTERNAL, cv2.CHAIN_APPROX_SIMPLE)\n",
    "\n",
    "        for cnt in contours:\n",
    "            x, y, w, h = cv2.boundingRect(cnt)\n",
    "            aspect_ratio = w / float(h)\n",
    "            area = w * h\n",
    "\n",
    "            if area > 5000 and (0.5 < aspect_ratio < 10):\n",
    "                cv2.rectangle(img_comp, (x, y), (x + w, y + h), (255, 0, 0), 2)\n",
    "\n",
    "        cv2.imwrite(f\"{output_dir}/{os.path.basename(f)}.jpg\", img_comp)\n",
    "        progress.update(1)"
   ],
   "id": "9bfc96f0dbeb28d4",
   "outputs": [],
   "execution_count": 2
  },
  {
   "metadata": {
    "ExecuteTime": {
     "end_time": "2025-05-05T06:36:25.359384Z",
     "start_time": "2025-05-05T06:35:47.284908Z"
    }
   },
   "cell_type": "code",
   "source": [
    "process(good, \"../../data/title-section/good\")\n",
    "process(ugly, \"../../data/title-section/ugly\")"
   ],
   "id": "107e1f1dcbc59b9e",
   "outputs": [
    {
     "name": "stderr",
     "output_type": "stream",
     "text": [
      "100%|██████████| 16/16 [00:16<00:00,  1.02s/it]\n",
      " 28%|██▊       | 7/25 [00:05<00:14,  1.20it/s]/home/sadid/anaconda3/lib/python3.12/site-packages/PIL/Image.py:3186: DecompressionBombWarning: Image size (139513096 pixels) exceeds limit of 89478485 pixels, could be decompression bomb DOS attack.\n",
      "  warnings.warn(\n",
      " 96%|█████████▌| 24/25 [00:19<00:00,  1.21it/s]/home/sadid/anaconda3/lib/python3.12/site-packages/PIL/Image.py:3186: DecompressionBombWarning: Image size (139513096 pixels) exceeds limit of 89478485 pixels, could be decompression bomb DOS attack.\n",
      "  warnings.warn(\n",
      "100%|██████████| 25/25 [00:21<00:00,  1.15it/s]\n"
     ]
    }
   ],
   "execution_count": 3
  }
 ],
 "metadata": {
  "kernelspec": {
   "display_name": "Python 3",
   "language": "python",
   "name": "python3"
  },
  "language_info": {
   "codemirror_mode": {
    "name": "ipython",
    "version": 2
   },
   "file_extension": ".py",
   "mimetype": "text/x-python",
   "name": "python",
   "nbconvert_exporter": "python",
   "pygments_lexer": "ipython2",
   "version": "2.7.6"
  }
 },
 "nbformat": 4,
 "nbformat_minor": 5
}
