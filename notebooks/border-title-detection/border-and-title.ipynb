{
 "cells": [
  {
   "cell_type": "code",
   "id": "initial_id",
   "metadata": {
    "collapsed": true,
    "ExecuteTime": {
     "end_time": "2025-05-06T07:40:10.427434Z",
     "start_time": "2025-05-06T07:40:06.494877Z"
    }
   },
   "source": [
    "from glob import glob\n",
    "\n",
    "import cv2\n",
    "from pdf2image import convert_from_path\n",
    "from PIL import Image\n",
    "from scoring import *\n",
    "from border_and_title import *\n",
    "\n",
    "# f = \"../../data/original/Ugly/10.pdf\"\n",
    "f = \"../../data/original/Good/300-014834.pdf\""
   ],
   "outputs": [],
   "execution_count": 1
  },
  {
   "metadata": {
    "ExecuteTime": {
     "end_time": "2025-05-06T07:40:12.015024Z",
     "start_time": "2025-05-06T07:40:10.474524Z"
    }
   },
   "cell_type": "code",
   "source": [
    "font = cv2.FONT_HERSHEY_SIMPLEX\n",
    "fontScale = 1\n",
    "color = (255, 0, 0)\n",
    "thickness = 2\n",
    "\n",
    "pages = convert_from_path(f, dpi=300)\n",
    "img = np.array(pages[0])\n",
    "img = im_resize(img)\n",
    "img_comp = img.copy()\n",
    "im_h, im_w, _ = img.shape\n",
    "\n",
    "sorted_indices, contours, hierarchy_area = detect_objects(img)\n",
    "border_1, border_2 = detect_borders(contours, sorted_indices)\n",
    "x, y, w, h = border_2\n",
    "cv2.rectangle(img_comp, (x, y), (x+w, y+h), (0, 255, 0), 10)\n",
    "x_1, y_1, w_1, h_1 = border_1\n",
    "cv2.rectangle(img_comp, (x_1, y_1), (x_1+w_1, y_1+h_1), (0, 255, 0), 10)\n",
    "\n",
    "title_contours = detect_probable_title_sections(img)\n",
    "\n",
    "for cnt in title_contours:\n",
    "    x, y, w, h = cv2.boundingRect(cnt)\n",
    "    aspect_ratio = w / float(h)\n",
    "    area = w * h\n",
    "    if area > 7000 and 2 < aspect_ratio < 10 and y > int((im_h * 70) / 100) and y+h > int((im_h * 93) / 100):\n",
    "        print(y, y+h, int((im_h * 80) / 100), int((im_h * 90) / 100))\n",
    "        cv2.rectangle(img_comp, (x, y), (x + w, y + h), (255, 0, 0), 10)\n",
    "    elif area > 7000 and 1.3 < aspect_ratio < 10:\n",
    "        cv2.rectangle(img_comp, (x, y), (x + w, y + h), (0, 0, 255), 10)\n",
    "    else:\n",
    "        cv2.rectangle(img_comp, (x, y), (x + w, y + h), (0, 255, 0), 10)\n",
    "\n",
    "print(len(title_contours))\n",
    "Image.fromarray(img_comp)"
   ],
   "id": "29e5e085dac0252a",
   "outputs": [
    {
     "ename": "error",
     "evalue": "OpenCV(4.11.0) :-1: error: (-5:Bad argument) in function 'boundingRect'\n> Overload resolution failed:\n>  - array is not a numerical tuple\n>  - Expected Ptr<cv::UMat> for argument 'array'\n",
     "output_type": "error",
     "traceback": [
      "\u001B[0;31m---------------------------------------------------------------------------\u001B[0m",
      "\u001B[0;31merror\u001B[0m                                     Traceback (most recent call last)",
      "Cell \u001B[0;32mIn[2], line 22\u001B[0m\n\u001B[1;32m     19\u001B[0m title_contours \u001B[38;5;241m=\u001B[39m detect_probable_title_sections(img)\n\u001B[1;32m     21\u001B[0m \u001B[38;5;28;01mfor\u001B[39;00m cnt \u001B[38;5;129;01min\u001B[39;00m title_contours:\n\u001B[0;32m---> 22\u001B[0m     x, y, w, h \u001B[38;5;241m=\u001B[39m cv2\u001B[38;5;241m.\u001B[39mboundingRect(cnt)\n\u001B[1;32m     23\u001B[0m     aspect_ratio \u001B[38;5;241m=\u001B[39m w \u001B[38;5;241m/\u001B[39m \u001B[38;5;28mfloat\u001B[39m(h)\n\u001B[1;32m     24\u001B[0m     area \u001B[38;5;241m=\u001B[39m w \u001B[38;5;241m*\u001B[39m h\n",
      "\u001B[0;31merror\u001B[0m: OpenCV(4.11.0) :-1: error: (-5:Bad argument) in function 'boundingRect'\n> Overload resolution failed:\n>  - array is not a numerical tuple\n>  - Expected Ptr<cv::UMat> for argument 'array'\n"
     ]
    }
   ],
   "execution_count": 2
  },
  {
   "metadata": {
    "ExecuteTime": {
     "end_time": "2025-05-05T11:06:14.422540Z",
     "start_time": "2025-05-05T11:06:14.421080Z"
    }
   },
   "cell_type": "code",
   "source": "",
   "id": "a51cf0ce33214051",
   "outputs": [],
   "execution_count": null
  }
 ],
 "metadata": {
  "kernelspec": {
   "display_name": "Python 3",
   "language": "python",
   "name": "python3"
  },
  "language_info": {
   "codemirror_mode": {
    "name": "ipython",
    "version": 2
   },
   "file_extension": ".py",
   "mimetype": "text/x-python",
   "name": "python",
   "nbconvert_exporter": "python",
   "pygments_lexer": "ipython2",
   "version": "2.7.6"
  }
 },
 "nbformat": 4,
 "nbformat_minor": 5
}
