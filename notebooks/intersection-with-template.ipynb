{
 "cells": [
  {
   "cell_type": "code",
   "id": "initial_id",
   "metadata": {
    "collapsed": true,
    "ExecuteTime": {
     "end_time": "2025-05-14T12:36:07.427714Z",
     "start_time": "2025-05-14T12:36:03.312295Z"
    }
   },
   "source": [
    "from glob import glob\n",
    "import os\n",
    "\n",
    "import cv2\n",
    "import numpy as np\n",
    "import torch\n",
    "from PIL import Image\n",
    "from pdf2image import convert_from_path\n",
    "from imutils import resize\n",
    "from tqdm import tqdm\n",
    "from scoring import *\n",
    "from border_and_title import *\n",
    "from template_extraction import *\n",
    "\n",
    "# files = [\n",
    "#     \"../data/original/Good/300-014820.pdf\",\n",
    "#     \"../data/original/Good/300-014823.pdf\",\n",
    "#     \"../data/original/Good/300-014821.pdf\",\n",
    "#     \"../data/original/Good/300-014822.pdf\"\n",
    "# ]\n",
    "# files = [\n",
    "#     \"../data/original/Good/300CRL002.png\",\n",
    "#     \"../data/original/Good/300CRL010.png\",\n",
    "# ]\n",
    "# files = [\n",
    "#     \"../data/original/Ugly/000.000.537.pdf\",\n",
    "#     \"../data/original/Ugly/000.001.296.pdf\",\n",
    "#     \"../data/original/Ugly/000.001.360.pdf\",\n",
    "#     \"../data/original/Ugly/000.001.389.pdf\",\n",
    "#     \"../data/original/Ugly/000.895.652.pdf\",\n",
    "#     # \"../data/original/Ugly/000.895.659.pdf\",\n",
    "#     # \"../data/original/Ugly/000.895.681.pdf\",\n",
    "#     # \"../data/original/Ugly/000.895.684.pdf\",\n",
    "#     # \"../data/original/Ugly/000.895.701 (1).pdf\"\n",
    "# ]\n",
    "# files = [\n",
    "#     \"../data/original/Ugly/000.001.024.pdf\",\n",
    "#     \"../data/original/Ugly/000.001.303.pdf\",\n",
    "#     \"../data/original/Ugly/000.001.373.pdf\",\n",
    "#     \"../data/original/Ugly/000.001.423.pdf\",\n",
    "#     \"../data/original/Ugly/000.895.692.pdf\",\n",
    "# ]\n",
    "# files = [\n",
    "#     \"../data/original/Ugly/1.pdf\",\n",
    "#     \"../data/original/Ugly/2.pdf\",\n",
    "#     \"../data/original/Ugly/3.pdf\",\n",
    "#     \"../data/original/Ugly/4.pdf\",\n",
    "#     \"../data/original/Ugly/5.pdf\",\n",
    "#     \"../data/original/Ugly/6.pdf\",\n",
    "#     \"../data/original/Ugly/7.pdf\",\n",
    "#     \"../data/original/Ugly/8.pdf\",\n",
    "#     \"../data/original/Ugly/9.pdf\",\n",
    "#     \"../data/original/Ugly/10.pdf\",\n",
    "#     \"../data/original/Ugly/11.pdf\"\n",
    "# ]\n",
    "# files = [\n",
    "#     \"../data/original/Good/15316-100-D-006_Sheet1.pdf\",\n",
    "#     \"../data/original/Good/15316-100-D-020_Sheet2.pdf\",\n",
    "#     \"../data/original/Good/15316-100-D-040_Sheet1.pdf\",\n",
    "#     \"../data/original/Good/15316-100-D-041_Sheet1.pdf\"\n",
    "# ]"
   ],
   "outputs": [],
   "execution_count": 1
  },
  {
   "metadata": {
    "ExecuteTime": {
     "end_time": "2025-05-14T12:36:07.480099Z",
     "start_time": "2025-05-14T12:36:07.475418Z"
    }
   },
   "cell_type": "code",
   "source": [
    "def process(files, output_dir):\n",
    "    os.makedirs(output_dir, exist_ok=True)\n",
    "    thickness = 2\n",
    "    progress = tqdm(total=len(files), desc=\"Processing Input\", leave=True, position=0)\n",
    "    structures = []\n",
    "    image_data = []\n",
    "    for f in files:\n",
    "        img = read_pdf(f)\n",
    "\n",
    "        sorted_indices, contours, hierarchy_area = detect_objects(img)\n",
    "        title_contours, line_90, data = detect_probable_title_sections(img, return_states=True)\n",
    "        ocr_result = data[\"ocr_result\"]\n",
    "        mask = data[\"mask\"]\n",
    "        inner_border_lines = data[\"inner_border_lines\"]  #  0: Bottom, 1: Top, 2: Right, 3: Left\n",
    "        structures.append(mask)\n",
    "        image_data.append([f, img, ocr_result, inner_border_lines, title_contours, line_90, sorted_indices, contours, hierarchy_area])\n",
    "        progress.update()\n",
    "\n",
    "    borders, template = get_template_borders_from_structures(structures)\n",
    "    progress = tqdm(total=len(image_data), desc=\"Processing Output\", leave=True, position=0)\n",
    "    for f, img, ocr_result, inner_border_lines, title_contours, line_90, sorted_indices, contours, hierarchy_area in image_data:\n",
    "        im_h, im_w, _ = img.shape\n",
    "        words = process_text(ocr_result, im_h, im_w)\n",
    "\n",
    "        border_1, border_2 = detect_borders(contours, sorted_indices, words)\n",
    "\n",
    "        # mask = structures[0]\n",
    "        # contours = detect_text_tables(img, words, mask)\n",
    "        # title_contours = title_contours + contours\n",
    "\n",
    "        boundary = get_boundary(border_1, border_2, inner_border_lines)\n",
    "        template_lines, intersection_lines, intersection_points = detect_intersection_with_template(img, boundary, borders, tolerance=10)\n",
    "        img_comp = img.copy()\n",
    "\n",
    "        for line in template_lines:\n",
    "            x1, y1, x2, y2 = line\n",
    "            cv2.line(img_comp, (x1, y1), (x2, y2), (0, 255, 0), 2)\n",
    "\n",
    "        cv2.rectangle(img_comp, boundary[0], boundary[1], (0, 255, 0), thickness)\n",
    "\n",
    "        # intersected_extended_lines, boundary_lines, boundary_title_block_lines, intersected_points = detect_intersection_with_borders(img.copy(), boundary, title_boundary, return_states=True)\n",
    "        # intersected_words = detect_intersected_texts(words, boundary_lines, boundary_title_block_lines)\n",
    "        # for idx, row in intersected_words.iterrows():\n",
    "        #     bx1, by1, bx2, by2 = row[[\"x1\", \"y1\", \"x2\", \"y2\"]].astype(int)\n",
    "        #     cv2.rectangle(img_comp, (bx1, by1), (bx2, by2), (0, 0, 255), 2)\n",
    "\n",
    "        for point in intersection_points:\n",
    "            if point is not None:\n",
    "                x1, y1 = point\n",
    "                cv2.circle(img_comp, (int(x1), int(y1)), 10, (0, 0, 255), 2)\n",
    "\n",
    "        cv2.imwrite(f\"{output_dir}/{os.path.basename(f)}.jpg\", np.hstack((img, img_comp)))\n",
    "        progress.update(1)\n",
    "\n",
    "    return template"
   ],
   "id": "f0381c829a497513",
   "outputs": [],
   "execution_count": 2
  },
  {
   "metadata": {
    "ExecuteTime": {
     "end_time": "2025-05-14T12:36:17.873100Z",
     "start_time": "2025-05-14T12:36:07.521934Z"
    }
   },
   "cell_type": "code",
   "source": [
    "files = [\n",
    "    \"../data/original/Good/300-014820.pdf\",\n",
    "    \"../data/original/Good/300-014823.pdf\",\n",
    "    \"../data/original/Good/300-014821.pdf\",\n",
    "    \"../data/original/Good/300-014822.pdf\"\n",
    "]\n",
    "t = process(\n",
    "    files,\n",
    "    \"../data/templates/template_1\"\n",
    ")\n",
    "\n",
    "Image.fromarray(resize(t, width=400))"
   ],
   "id": "9839101c2f672fd5",
   "outputs": [
    {
     "name": "stderr",
     "output_type": "stream",
     "text": [
      "Processing Input: 100%|██████████| 4/4 [00:04<00:00,  1.27s/it]"
     ]
    },
    {
     "name": "stdout",
     "output_type": "stream",
     "text": [
      "Image Similarity: 86.0823%\n",
      "Image Similarity: 88.7206%\n",
      "Image Similarity: 85.1641%\n"
     ]
    },
    {
     "name": "stderr",
     "output_type": "stream",
     "text": [
      "Processing Input: 100%|██████████| 4/4 [00:05<00:00,  1.45s/it]\n",
      "Processing Output:  25%|██▌       | 1/4 [00:00<00:01,  1.75it/s]/home/sadid/PycharmProjects/mechanical-drawing-scoring/utils.py:173: RuntimeWarning: overflow encountered in scalar multiply\n",
      "  x = (b2 * c1 - b1 * c2) / determinant\n",
      "/home/sadid/PycharmProjects/mechanical-drawing-scoring/utils.py:174: RuntimeWarning: overflow encountered in scalar multiply\n",
      "  y = (a1 * c2 - a2 * c1) / determinant\n",
      "Processing Output: 100%|██████████| 4/4 [00:04<00:00,  1.14s/it]\n"
     ]
    },
    {
     "data": {
      "text/plain": [
       "<PIL.Image.Image image mode=L size=400x258>"
      ],
      "image/png": "[encoded data removed]",
      "image/jpeg": "[encoded data removed]"
     },
     "execution_count": 3,
     "metadata": {},
     "output_type": "execute_result"
    }
   ],
   "execution_count": 3
  },
  {
   "metadata": {
    "ExecuteTime": {
     "end_time": "2025-05-14T12:36:22.532295Z",
     "start_time": "2025-05-14T12:36:17.880910Z"
    }
   },
   "cell_type": "code",
   "source": [
    "files = [\n",
    "    \"../data/original/Ugly/000.000.537.pdf\",\n",
    "    \"../data/original/Ugly/000.001.296.pdf\",\n",
    "    \"../data/original/Ugly/000.001.360.pdf\",\n",
    "    \"../data/original/Ugly/000.001.389.pdf\",\n",
    "    \"../data/original/Ugly/000.895.652.pdf\",\n",
    "    # \"../data/original/Ugly/000.895.659.pdf\",\n",
    "    # \"../data/original/Ugly/000.895.681.pdf\",\n",
    "    # \"../data/original/Ugly/000.895.684.pdf\",\n",
    "    # \"../data/original/Ugly/000.895.701 (1).pdf\"\n",
    "]\n",
    "\n",
    "t = process(\n",
    "    files,\n",
    "    \"../data/templates/template_2\"\n",
    ")\n",
    "\n",
    "Image.fromarray(resize(t, width=400))"
   ],
   "id": "ad491951bf587825",
   "outputs": [
    {
     "name": "stderr",
     "output_type": "stream",
     "text": [
      "Processing Input: 100%|██████████| 5/5 [00:02<00:00,  1.62it/s]"
     ]
    },
    {
     "name": "stdout",
     "output_type": "stream",
     "text": [
      "Image Similarity: 94.7579%\n",
      "Image Similarity: 92.5053%\n",
      "Image Similarity: 95.3023%\n",
      "Image Similarity: 93.0575%\n"
     ]
    },
    {
     "name": "stderr",
     "output_type": "stream",
     "text": [
      "Processing Input: 100%|██████████| 5/5 [00:03<00:00,  1.26it/s]\n",
      "Processing Output: 100%|██████████| 5/5 [00:00<00:00,  7.33it/s]\n"
     ]
    },
    {
     "data": {
      "text/plain": [
       "<PIL.Image.Image image mode=L size=400x282>"
      ],
      "image/png": "[encoded data removed]",
      "image/jpeg": "[encoded data removed]"
     },
     "execution_count": 4,
     "metadata": {},
     "output_type": "execute_result"
    }
   ],
   "execution_count": 4
  },
  {
   "metadata": {
    "ExecuteTime": {
     "end_time": "2025-05-14T12:36:30.068865Z",
     "start_time": "2025-05-14T12:36:22.542213Z"
    }
   },
   "cell_type": "code",
   "source": [
    "files = [\n",
    "    \"../data/original/Ugly/000.001.024.pdf\",\n",
    "    \"../data/original/Ugly/000.001.303.pdf\",\n",
    "    \"../data/original/Ugly/000.001.373.pdf\",\n",
    "    \"../data/original/Ugly/000.001.423.pdf\",\n",
    "    \"../data/original/Ugly/000.895.692.pdf\",\n",
    "]\n",
    "\n",
    "t = process(\n",
    "    files,\n",
    "    \"../data/templates/template_3\"\n",
    ")\n",
    "\n",
    "Image.fromarray(resize(t, width=400))"
   ],
   "id": "bb1df6a5d5cbf326",
   "outputs": [
    {
     "name": "stderr",
     "output_type": "stream",
     "text": [
      "Processing Input:   0%|          | 0/5 [00:00<?, ?it/s]/home/sadid/anaconda3/lib/python3.12/site-packages/PIL/Image.py:3186: DecompressionBombWarning: Image size (139513096 pixels) exceeds limit of 89478485 pixels, could be decompression bomb DOS attack.\n",
      "  warnings.warn(\n",
      "Processing Input:  60%|██████    | 3/5 [00:03<00:02,  1.19s/it]/home/sadid/anaconda3/lib/python3.12/site-packages/PIL/Image.py:3186: DecompressionBombWarning: Image size (139513096 pixels) exceeds limit of 89478485 pixels, could be decompression bomb DOS attack.\n",
      "  warnings.warn(\n",
      "Processing Input: 100%|██████████| 5/5 [00:06<00:00,  1.30s/it]"
     ]
    },
    {
     "name": "stdout",
     "output_type": "stream",
     "text": [
      "Image processing error\n",
      "(1500, 2123) (1500, 2120)\n",
      "Image processing error\n",
      "(1500, 2123) (1500, 2120)\n",
      "Image Similarity: 97.1406%\n",
      "Image processing error\n",
      "(1500, 2121) (1500, 2120)\n"
     ]
    },
    {
     "name": "stderr",
     "output_type": "stream",
     "text": [
      "Processing Input: 100%|██████████| 5/5 [00:07<00:00,  1.41s/it]\n",
      "Processing Output: 100%|██████████| 5/5 [00:00<00:00, 10.29it/s]\n"
     ]
    },
    {
     "data": {
      "text/plain": [
       "<PIL.Image.Image image mode=L size=400x283>"
      ],
      "image/png": "[encoded data removed]",
      "image/jpeg": "[encoded data removed]"
     },
     "execution_count": 5,
     "metadata": {},
     "output_type": "execute_result"
    }
   ],
   "execution_count": 5
  },
  {
   "metadata": {
    "ExecuteTime": {
     "end_time": "2025-05-14T12:36:43.587827Z",
     "start_time": "2025-05-14T12:36:30.079508Z"
    }
   },
   "cell_type": "code",
   "source": [
    "files = [\n",
    "    \"../data/original/Ugly/1.pdf\",\n",
    "    \"../data/original/Ugly/2.pdf\",\n",
    "    \"../data/original/Ugly/3.pdf\",\n",
    "    \"../data/original/Ugly/4.pdf\",\n",
    "    \"../data/original/Ugly/5.pdf\",\n",
    "    \"../data/original/Ugly/6.pdf\",\n",
    "    \"../data/original/Ugly/7.pdf\",\n",
    "    \"../data/original/Ugly/8.pdf\",\n",
    "    \"../data/original/Ugly/9.pdf\",\n",
    "    \"../data/original/Ugly/10.pdf\",\n",
    "    \"../data/original/Ugly/11.pdf\"\n",
    "]\n",
    "\n",
    "t = process(\n",
    "    files,\n",
    "    \"../data/templates/template_4\"\n",
    ")\n",
    "\n",
    "Image.fromarray(resize(t, width=400))"
   ],
   "id": "2d2e6930b5c6fee3",
   "outputs": [
    {
     "name": "stderr",
     "output_type": "stream",
     "text": [
      "Processing Input: 100%|██████████| 11/11 [00:09<00:00,  1.09it/s]"
     ]
    },
    {
     "name": "stdout",
     "output_type": "stream",
     "text": [
      "Image Similarity: 94.2480%\n",
      "Image Similarity: 87.2008%\n",
      "Image Similarity: 89.5824%\n",
      "Image Similarity: 91.8172%\n",
      "Image Similarity: 88.8584%\n",
      "Image Similarity: 92.6012%\n",
      "Image Similarity: 91.2275%\n",
      "Image Similarity: 93.6129%\n",
      "Image processing error\n",
      "(1500, 2318) (1500, 1941)\n",
      "Image Similarity: 92.5154%\n"
     ]
    },
    {
     "name": "stderr",
     "output_type": "stream",
     "text": [
      "Processing Input: 100%|██████████| 11/11 [00:11<00:00,  1.02s/it]\n",
      "Processing Output:  82%|████████▏ | 9/11 [00:01<00:00,  5.17it/s]/home/sadid/PycharmProjects/mechanical-drawing-scoring/utils.py:174: RuntimeWarning: overflow encountered in scalar multiply\n",
      "  y = (a1 * c2 - a2 * c1) / determinant\n",
      "Processing Output:  91%|█████████ | 10/11 [00:02<00:00,  5.14it/s]/home/sadid/PycharmProjects/mechanical-drawing-scoring/utils.py:174: RuntimeWarning: overflow encountered in scalar multiply\n",
      "  y = (a1 * c2 - a2 * c1) / determinant\n",
      "Processing Output: 100%|██████████| 11/11 [00:02<00:00,  4.75it/s]\n"
     ]
    },
    {
     "data": {
      "text/plain": [
       "<PIL.Image.Image image mode=L size=400x309>"
      ],
      "image/png": "[encoded data removed]",
      "image/jpeg": "[encoded data removed]"
     },
     "execution_count": 6,
     "metadata": {},
     "output_type": "execute_result"
    }
   ],
   "execution_count": 6
  },
  {
   "metadata": {
    "ExecuteTime": {
     "end_time": "2025-05-14T12:36:49.337154Z",
     "start_time": "2025-05-14T12:36:43.598829Z"
    }
   },
   "cell_type": "code",
   "source": [
    "files = [\n",
    "    \"../data/original/Good/15316-100-D-006_Sheet1.pdf\",\n",
    "    \"../data/original/Good/15316-100-D-020_Sheet2.pdf\",\n",
    "    \"../data/original/Good/15316-100-D-040_Sheet1.pdf\",\n",
    "    \"../data/original/Good/15316-100-D-041_Sheet1.pdf\"\n",
    "]\n",
    "\n",
    "t = process(\n",
    "    files,\n",
    "    \"../data/templates/template_5\"\n",
    ")\n",
    "\n",
    "Image.fromarray(resize(t, width=400))"
   ],
   "id": "3fb05125cbd1d21e",
   "outputs": [
    {
     "name": "stderr",
     "output_type": "stream",
     "text": [
      "Processing Input: 100%|██████████| 4/4 [00:03<00:00,  1.29it/s]"
     ]
    },
    {
     "name": "stdout",
     "output_type": "stream",
     "text": [
      "Image Similarity: 93.8496%\n",
      "Image Similarity: 93.2276%\n",
      "Image Similarity: 91.8845%\n"
     ]
    },
    {
     "name": "stderr",
     "output_type": "stream",
     "text": [
      "Processing Input: 100%|██████████| 4/4 [00:03<00:00,  1.02it/s]\n",
      "Processing Output: 100%|██████████| 4/4 [00:01<00:00,  2.23it/s]\n"
     ]
    },
    {
     "data": {
      "text/plain": [
       "<PIL.Image.Image image mode=L size=400x258>"
      ],
      "image/png": "[encoded data removed]",
      "image/jpeg": "[encoded data removed]"
     },
     "execution_count": 7,
     "metadata": {},
     "output_type": "execute_result"
    }
   ],
   "execution_count": 7
  }
 ],
 "metadata": {
  "kernelspec": {
   "display_name": "Python 3",
   "language": "python",
   "name": "python3"
  },
  "language_info": {
   "codemirror_mode": {
    "name": "ipython",
    "version": 2
   },
   "file_extension": ".py",
   "mimetype": "text/x-python",
   "name": "python",
   "nbconvert_exporter": "python",
   "pygments_lexer": "ipython2",
   "version": "2.7.6"
  }
 },
 "nbformat": 4,
 "nbformat_minor": 5
}
