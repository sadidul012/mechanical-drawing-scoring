{
 "cells": [
  {
   "cell_type": "code",
   "id": "initial_id",
   "metadata": {
    "collapsed": true,
    "ExecuteTime": {
     "end_time": "2025-05-04T10:19:16.691704Z",
     "start_time": "2025-05-04T10:19:11.180329Z"
    }
   },
   "source": [
    "from doctr.models import ocr_predictor\n",
    "from doctr.io import DocumentFile\n",
    "\n",
    "ocr_model = ocr_predictor('db_resnet50', 'crnn_vgg16_bn', pretrained=True)\n",
    "img_doc = DocumentFile.from_images([\"../data/Screenshot from 2025-05-04 16-13-02.png\"])\n",
    "ocr_result = ocr_model(img_doc)\n",
    "\n",
    "print(ocr_result)"
   ],
   "outputs": [
    {
     "name": "stdout",
     "output_type": "stream",
     "text": [
      "Document(\n",
      "  (pages): [Page(\n",
      "    dimensions=(161, 468)\n",
      "    (blocks): [Block(\n",
      "      (lines): [\n",
      "        Line(\n",
      "          (words): [Word(value='PROJECT', confidence=0.52)]\n",
      "        ),\n",
      "        Line(\n",
      "          (words): [Word(value='DESCRIPION', confidence=0.83)]\n",
      "        ),\n",
      "        Line(\n",
      "          (words): [\n",
      "            Word(value='Blech/Sheet', confidence=0.6),\n",
      "            Word(value='metal', confidence=0.94),\n",
      "          ]\n",
      "        ),\n",
      "        Line(\n",
      "          (words): [\n",
      "            Word(value='SCALE:', confidence=0.94),\n",
      "            Word(value='1:10', confidence=0.99),\n",
      "          ]\n",
      "        ),\n",
      "        Line(\n",
      "          (words): [Word(value='SZE', confidence=0.96)]\n",
      "        ),\n",
      "        Line(\n",
      "          (words): [\n",
      "            Word(value='DWG.', confidence=0.99),\n",
      "            Word(value='NO.', confidence=1.0),\n",
      "          ]\n",
      "        ),\n",
      "        Line(\n",
      "          (words): [Word(value='REV', confidence=0.99)]\n",
      "        ),\n",
      "        Line(\n",
      "          (words): [Word(value='C', confidence=0.94)]\n",
      "        ),\n",
      "        Line(\n",
      "          (words): [Word(value='Part03', confidence=0.96)]\n",
      "        ),\n",
      "        Line(\n",
      "          (words): [\n",
      "            Word(value='SHEET', confidence=1.0),\n",
      "            Word(value='1', confidence=1.0),\n",
      "            Word(value='OF', confidence=1.0),\n",
      "            Word(value='-', confidence=1.0),\n",
      "          ]\n",
      "        ),\n",
      "        Line(\n",
      "          (words): [Word(value='3', confidence=0.84)]\n",
      "        ),\n",
      "        Line(\n",
      "          (words): [Word(value='2', confidence=1.0)]\n",
      "        ),\n",
      "      ]\n",
      "      (artefacts): []\n",
      "    )]\n",
      "  )]\n",
      ")\n"
     ]
    }
   ],
   "execution_count": 1
  },
  {
   "metadata": {
    "ExecuteTime": {
     "end_time": "2025-05-04T10:19:16.742628Z",
     "start_time": "2025-05-04T10:19:16.740290Z"
    }
   },
   "cell_type": "code",
   "source": [
    "for block in ocr_result.pages[0].blocks:\n",
    "    for line in block.lines:\n",
    "        for word in line.words:\n",
    "            text = word.value\n",
    "            print(text)\n",
    "            (x, y) = word.geometry"
   ],
   "id": "e19f024ead05542a",
   "outputs": [
    {
     "name": "stdout",
     "output_type": "stream",
     "text": [
      "PROJECT\n",
      "DESCRIPION\n",
      "Blech/Sheet\n",
      "metal\n",
      "SCALE:\n",
      "1:10\n",
      "SZE\n",
      "DWG.\n",
      "NO.\n",
      "REV\n",
      "C\n",
      "Part03\n",
      "SHEET\n",
      "1\n",
      "OF\n",
      "-\n",
      "3\n",
      "2\n"
     ]
    }
   ],
   "execution_count": 2
  }
 ],
 "metadata": {
  "kernelspec": {
   "display_name": "Python 3",
   "language": "python",
   "name": "python3"
  },
  "language_info": {
   "codemirror_mode": {
    "name": "ipython",
    "version": 2
   },
   "file_extension": ".py",
   "mimetype": "text/x-python",
   "name": "python",
   "nbconvert_exporter": "python",
   "pygments_lexer": "ipython2",
   "version": "2.7.6"
  }
 },
 "nbformat": 4,
 "nbformat_minor": 5
}
