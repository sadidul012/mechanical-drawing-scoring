{
 "cells": [
  {
   "cell_type": "code",
   "id": "initial_id",
   "metadata": {
    "collapsed": true,
    "ExecuteTime": {
     "end_time": "2025-05-03T10:07:31.335784Z",
     "start_time": "2025-05-03T10:07:31.256919Z"
    }
   },
   "source": [
    "from glob import glob\n",
    "import os\n",
    "\n",
    "import cv2\n",
    "import numpy as np\n",
    "from PIL import Image\n",
    "from pdf2image import convert_from_path\n",
    "from imutils import resize\n",
    "from tqdm import tqdm\n",
    "\n",
    "good = list(glob(\"../data/original/Good/*.pdf\"))\n",
    "ugly = list(glob(\"../data/original/Ugly/*.pdf\"))\n",
    "\n",
    "len(good), len(ugly)"
   ],
   "outputs": [
    {
     "data": {
      "text/plain": [
       "(16, 25)"
      ]
     },
     "execution_count": 1,
     "metadata": {},
     "output_type": "execute_result"
    }
   ],
   "execution_count": 1
  },
  {
   "metadata": {
    "ExecuteTime": {
     "end_time": "2025-05-03T10:07:31.372419Z",
     "start_time": "2025-05-03T10:07:31.370190Z"
    }
   },
   "cell_type": "code",
   "source": [
    "def im_resize(img, size=1500):\n",
    "    height, width = img.shape[:2]\n",
    "\n",
    "    if height * width > 59478485:\n",
    "        scale_percent = 50\n",
    "        new_width = int(width * scale_percent / 100)\n",
    "        new_height = int(height * scale_percent / 100)\n",
    "        img = cv2.resize(img, (new_width, new_height), interpolation=cv2.INTER_AREA)\n",
    "\n",
    "    longer = np.argmax(img.shape)\n",
    "\n",
    "    if longer == 0:\n",
    "        img = resize(img, size)\n",
    "    else:\n",
    "        img = resize(img, height=size)\n",
    "\n",
    "    return img"
   ],
   "id": "c90d73a001d33813",
   "outputs": [],
   "execution_count": 2
  },
  {
   "metadata": {
    "ExecuteTime": {
     "end_time": "2025-05-03T10:07:31.417347Z",
     "start_time": "2025-05-03T10:07:31.414665Z"
    }
   },
   "cell_type": "code",
   "source": [
    "def detect_objects(img):\n",
    "    gray = cv2.cvtColor(img, cv2.COLOR_BGR2GRAY)\n",
    "\n",
    "    thresh = cv2.adaptiveThreshold(\n",
    "        gray, 255,\n",
    "        cv2.ADAPTIVE_THRESH_GAUSSIAN_C,\n",
    "        cv2.THRESH_BINARY_INV,\n",
    "        11, 2\n",
    "    )\n",
    "\n",
    "    kernel = np.ones((3,3), np.uint8)\n",
    "    dilated = cv2.dilate(thresh, kernel, iterations=1)\n",
    "\n",
    "    contours, hierarchy = cv2.findContours(\n",
    "        dilated,\n",
    "        cv2.RETR_CCOMP,\n",
    "        cv2.CHAIN_APPROX_SIMPLE\n",
    "    )\n",
    "\n",
    "    areas = []\n",
    "\n",
    "    for cnt in contours:\n",
    "        areas.append(cv2.contourArea(cnt))\n",
    "\n",
    "    def get_sorted_indices(data):\n",
    "        return [i[0] for i in sorted(enumerate(data), key=lambda x: x[1], reverse=True)]\n",
    "\n",
    "    sorted_indices = get_sorted_indices(areas)\n",
    "\n",
    "    indices = np.expand_dims(np.arange(hierarchy[0].shape[0]), 1)\n",
    "    hierarchy_area = np.concatenate((indices, hierarchy[0], np.expand_dims(areas, 1)), axis=1)\n",
    "\n",
    "    return sorted_indices, contours, hierarchy_area"
   ],
   "id": "6ef91915c8684260",
   "outputs": [],
   "execution_count": 3
  },
  {
   "metadata": {
    "ExecuteTime": {
     "end_time": "2025-05-03T10:07:31.461464Z",
     "start_time": "2025-05-03T10:07:31.459550Z"
    }
   },
   "cell_type": "code",
   "source": [
    "def calculate_border_score(img, contours, sorted_indices):\n",
    "    width, height = img.shape[:2]\n",
    "    image_area = width * height\n",
    "    area_1 = cv2.contourArea(contours[sorted_indices[0]])\n",
    "    area_2 = cv2.contourArea(contours[sorted_indices[1]])\n",
    "\n",
    "    return 1 - ((((image_area - area_1) / image_area) + ((area_1 - area_2) / area_1)) / 2)\n"
   ],
   "id": "3e288d01d0faead6",
   "outputs": [],
   "execution_count": 4
  },
  {
   "metadata": {
    "ExecuteTime": {
     "end_time": "2025-05-03T10:07:31.507457Z",
     "start_time": "2025-05-03T10:07:31.504475Z"
    }
   },
   "cell_type": "code",
   "source": [
    "def process(files, output_dir):\n",
    "    os.makedirs(output_dir, exist_ok=True)\n",
    "    font = cv2.FONT_HERSHEY_SIMPLEX\n",
    "    fontScale = 1\n",
    "    color = (255, 0, 0)\n",
    "    thickness = 2\n",
    "\n",
    "    progress = tqdm(total=len(good))\n",
    "\n",
    "    for f in files:\n",
    "        pages = convert_from_path(f, dpi=300)\n",
    "        img = np.array(pages[0])\n",
    "        img = im_resize(img)\n",
    "        img_comp = img.copy()\n",
    "\n",
    "        sorted_indices, contours, hierarchy_area = detect_objects(img)\n",
    "\n",
    "        index = sorted_indices[0]\n",
    "        x, y, w, h = cv2.boundingRect(contours[index])\n",
    "        cv2.rectangle(img_comp, (x, y), (x+w, y+h), (0, 255, 0), 10)\n",
    "\n",
    "        index = sorted_indices[1]\n",
    "        x, y, w, h = cv2.boundingRect(contours[index])\n",
    "        cv2.rectangle(img_comp, (x, y), (x+w, y+h), (0, 255, 0), 10)\n",
    "\n",
    "        border_score = calculate_border_score(img, contours, sorted_indices)\n",
    "        cv2.putText(img_comp, f'{border_score}', (x, y), font, fontScale, color, thickness, cv2.LINE_AA)\n",
    "\n",
    "        cv2.imwrite(f\"{output_dir}/{os.path.basename(f)}.{border_score:.2f}.jpg\", img_comp)\n",
    "        progress.update(1)"
   ],
   "id": "71dc28c300fec315",
   "outputs": [],
   "execution_count": 5
  },
  {
   "metadata": {
    "ExecuteTime": {
     "end_time": "2025-05-03T10:07:45.374745Z",
     "start_time": "2025-05-03T10:07:31.549636Z"
    }
   },
   "cell_type": "code",
   "source": "process(ugly, \"../data/output/ugly\")",
   "id": "ed283542e0fce0df",
   "outputs": [
    {
     "name": "stderr",
     "output_type": "stream",
     "text": [
      " 44%|████▍     | 7/16 [00:03<00:05,  1.78it/s]/home/sadid/anaconda3/lib/python3.12/site-packages/PIL/Image.py:3186: DecompressionBombWarning: Image size (139513096 pixels) exceeds limit of 89478485 pixels, could be decompression bomb DOS attack.\n",
      "  warnings.warn(\n",
      "24it [00:12,  2.33it/s]                        /home/sadid/anaconda3/lib/python3.12/site-packages/PIL/Image.py:3186: DecompressionBombWarning: Image size (139513096 pixels) exceeds limit of 89478485 pixels, could be decompression bomb DOS attack.\n",
      "  warnings.warn(\n",
      "25it [00:13,  1.81it/s]\n"
     ]
    }
   ],
   "execution_count": 6
  },
  {
   "metadata": {
    "ExecuteTime": {
     "end_time": "2025-05-03T10:07:53.344329Z",
     "start_time": "2025-05-03T10:07:45.384441Z"
    }
   },
   "cell_type": "code",
   "source": "process(good, \"../data/output/good\")",
   "id": "1b47fe3f5bf42597",
   "outputs": [
    {
     "name": "stderr",
     "output_type": "stream",
     "text": [
      "100%|██████████| 16/16 [00:07<00:00,  2.01it/s]\n"
     ]
    }
   ],
   "execution_count": 7
  }
 ],
 "metadata": {
  "kernelspec": {
   "display_name": "Python 3",
   "language": "python",
   "name": "python3"
  },
  "language_info": {
   "codemirror_mode": {
    "name": "ipython",
    "version": 2
   },
   "file_extension": ".py",
   "mimetype": "text/x-python",
   "name": "python",
   "nbconvert_exporter": "python",
   "pygments_lexer": "ipython2",
   "version": "2.7.6"
  }
 },
 "nbformat": 4,
 "nbformat_minor": 5
}
