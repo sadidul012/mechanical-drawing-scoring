{
 "cells": [
  {
   "cell_type": "code",
   "id": "initial_id",
   "metadata": {
    "collapsed": true,
    "ExecuteTime": {
     "end_time": "2025-05-04T06:33:22.668769Z",
     "start_time": "2025-05-04T06:33:22.589642Z"
    }
   },
   "source": [
    "from glob import glob\n",
    "import os\n",
    "\n",
    "import cv2\n",
    "import numpy as np\n",
    "from PIL import Image\n",
    "from pdf2image import convert_from_path\n",
    "from imutils import resize\n",
    "from tqdm import tqdm\n",
    "from scoring import *\n",
    "\n",
    "good = list(glob(\"../data/original/Good/*.pdf\"))\n",
    "ugly = list(glob(\"../data/original/Ugly/*.pdf\"))\n",
    "\n",
    "len(good), len(ugly)"
   ],
   "outputs": [
    {
     "data": {
      "text/plain": [
       "(16, 25)"
      ]
     },
     "execution_count": 1,
     "metadata": {},
     "output_type": "execute_result"
    }
   ],
   "execution_count": 1
  },
  {
   "metadata": {
    "ExecuteTime": {
     "end_time": "2025-05-04T06:33:22.710586Z",
     "start_time": "2025-05-04T06:33:22.706240Z"
    }
   },
   "cell_type": "code",
   "source": [
    "def process(files, output_dir):\n",
    "    os.makedirs(output_dir, exist_ok=True)\n",
    "    font = cv2.FONT_HERSHEY_SIMPLEX\n",
    "    fontScale = 1\n",
    "    color = (255, 0, 0)\n",
    "    thickness = 2\n",
    "\n",
    "    progress = tqdm(total=len(files))\n",
    "\n",
    "    for f in files:\n",
    "        pages = convert_from_path(f, dpi=300)\n",
    "        img = np.array(pages[0])\n",
    "        img = im_resize(img)\n",
    "        img_comp = img.copy()\n",
    "\n",
    "        sorted_indices, contours, hierarchy_area = detect_objects(img)\n",
    "        border_1 = sorted_indices[0]\n",
    "        border_2 = sorted_indices[1]\n",
    "        index = sorted_indices[0]\n",
    "        cs = [random_rgb_color(), random_rgb_color()]\n",
    "\n",
    "        x, y, w, h = cv2.boundingRect(contours[index])\n",
    "        cv2.rectangle(img_comp, (x, y), (x+w, y+h), cs[0], 10)\n",
    "\n",
    "        index = sorted_indices[1]\n",
    "        x, y, w, h = cv2.boundingRect(contours[index])\n",
    "        cv2.rectangle(img_comp, (x, y), (x+w, y+h), cs[1], 10)\n",
    "\n",
    "        parents = hierarchy_area[((hierarchy_area[:, 4] == border_1) | (hierarchy_area[:, 4] == border_2)) & (hierarchy_area[:, 5] > 10000)]\n",
    "        cv2.putText(img_comp, f'{len(hierarchy_area[hierarchy_area[:, 5] > 10000])}', (100, 100), font, fontScale, color, thickness, cv2.LINE_AA)\n",
    "\n",
    "        area = 0\n",
    "        for index in parents:\n",
    "            index = int(index[0])\n",
    "            x, y, w, h = cv2.boundingRect(contours[index])\n",
    "\n",
    "            if y < int((img_comp.shape[0] * 80) / 100) < (y + h):\n",
    "                c = cs[0] if index == border_1 else cs[1]\n",
    "                cv2.rectangle(img_comp, (x, y), (x+w, y+h), c, 10)\n",
    "\n",
    "                if index not in [border_2, border_1]:\n",
    "                    area = area + (w * h)\n",
    "\n",
    "        score = 1 - (area / ((img.shape[0] * img.shape[1]) / 3))  # Good if 1\n",
    "        cv2.putText(img_comp, f'{score:.2f} {area:.2f}', (100, 70), font, fontScale, color, thickness, cv2.LINE_AA)\n",
    "        \n",
    "        cv2.imwrite(f\"{output_dir}/{os.path.basename(f)}.jpg\", img_comp)\n",
    "        progress.update(1)"
   ],
   "id": "a7b37fb51373a8d1",
   "outputs": [],
   "execution_count": 2
  },
  {
   "metadata": {
    "ExecuteTime": {
     "end_time": "2025-05-04T06:33:31.564723Z",
     "start_time": "2025-05-04T06:33:22.753673Z"
    }
   },
   "cell_type": "code",
   "source": "process(good, \"../data/border-touched/good\")",
   "id": "95459b93c7017448",
   "outputs": [
    {
     "name": "stderr",
     "output_type": "stream",
     "text": [
      "100%|██████████| 16/16 [00:08<00:00,  1.82it/s]\n"
     ]
    }
   ],
   "execution_count": 3
  },
  {
   "metadata": {
    "ExecuteTime": {
     "end_time": "2025-05-04T06:33:45.142838Z",
     "start_time": "2025-05-04T06:33:31.574510Z"
    }
   },
   "cell_type": "code",
   "source": "process(ugly, \"../data/border-touched/ugly\")",
   "id": "25d3b8020c7492b6",
   "outputs": [
    {
     "name": "stderr",
     "output_type": "stream",
     "text": [
      " 28%|██▊       | 7/25 [00:03<00:09,  1.90it/s]/home/sadid/anaconda3/lib/python3.12/site-packages/PIL/Image.py:3186: DecompressionBombWarning: Image size (139513096 pixels) exceeds limit of 89478485 pixels, could be decompression bomb DOS attack.\n",
      "  warnings.warn(\n",
      " 96%|█████████▌| 24/25 [00:11<00:00,  2.30it/s]/home/sadid/anaconda3/lib/python3.12/site-packages/PIL/Image.py:3186: DecompressionBombWarning: Image size (139513096 pixels) exceeds limit of 89478485 pixels, could be decompression bomb DOS attack.\n",
      "  warnings.warn(\n",
      "100%|██████████| 25/25 [00:13<00:00,  1.84it/s]\n"
     ]
    }
   ],
   "execution_count": 4
  },
  {
   "metadata": {
    "ExecuteTime": {
     "end_time": "2025-05-04T06:33:45.166645Z",
     "start_time": "2025-05-04T06:33:45.165387Z"
    }
   },
   "cell_type": "code",
   "source": "",
   "id": "47301ab4af66dfc3",
   "outputs": [],
   "execution_count": null
  }
 ],
 "metadata": {
  "kernelspec": {
   "display_name": "Python 3",
   "language": "python",
   "name": "python3"
  },
  "language_info": {
   "codemirror_mode": {
    "name": "ipython",
    "version": 2
   },
   "file_extension": ".py",
   "mimetype": "text/x-python",
   "name": "python",
   "nbconvert_exporter": "python",
   "pygments_lexer": "ipython2",
   "version": "2.7.6"
  }
 },
 "nbformat": 4,
 "nbformat_minor": 5
}
