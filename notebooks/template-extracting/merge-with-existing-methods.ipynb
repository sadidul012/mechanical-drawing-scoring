{
 "cells": [
  {
   "metadata": {
    "ExecuteTime": {
     "end_time": "2025-05-13T10:27:02.433068Z",
     "start_time": "2025-05-13T10:26:58.284014Z"
    }
   },
   "cell_type": "code",
   "source": [
    "from glob import glob\n",
    "import os\n",
    "\n",
    "import cv2\n",
    "import numpy as np\n",
    "import torch\n",
    "from PIL import Image\n",
    "from pdf2image import convert_from_path\n",
    "from imutils import resize\n",
    "from tqdm import tqdm\n",
    "from scoring import *\n",
    "from border_and_title import *\n",
    "from template_extraction import *"
   ],
   "id": "4e42d44c6b39302f",
   "outputs": [],
   "execution_count": 1
  },
  {
   "metadata": {
    "ExecuteTime": {
     "end_time": "2025-05-13T10:27:02.483282Z",
     "start_time": "2025-05-13T10:27:02.481038Z"
    }
   },
   "cell_type": "code",
   "source": [
    "\n",
    "# files = [\n",
    "#     \"../../data/original/Good/300-014820.pdf\",\n",
    "#     \"../../data/original/Good/300-014823.pdf\",\n",
    "#     \"../../data/original/Good/300-014821.pdf\",\n",
    "#     \"../../data/original/Good/300-014822.pdf\"\n",
    "# ]\n",
    "# files = [\n",
    "#     \"../../data/original/Ugly/000.000.537.pdf\",\n",
    "#     \"../../data/original/Ugly/000.001.296.pdf\",\n",
    "#     \"../../data/original/Ugly/000.001.360.pdf\",\n",
    "#     \"../../data/original/Ugly/000.001.389.pdf\",\n",
    "#     \"../../data/original/Ugly/000.895.652.pdf\",\n",
    "#     # \"../../data/original/Ugly/000.895.659.pdf\",\n",
    "#     # \"../../data/original/Ugly/000.895.681.pdf\",\n",
    "#     # \"../../data/original/Ugly/000.895.684.pdf\",\n",
    "#     # \"../../data/original/Ugly/000.895.701 (1).pdf\"\n",
    "# ]\n",
    "# files = [\n",
    "#     \"../../data/original/Ugly/000.001.024.pdf\",\n",
    "#     \"../../data/original/Ugly/000.001.303.pdf\",\n",
    "#     \"../../data/original/Ugly/000.001.373.pdf\",\n",
    "#     \"../../data/original/Ugly/000.001.423.pdf\",\n",
    "#     \"../../data/original/Ugly/000.895.692.pdf\",\n",
    "# ]\n",
    "# files = [\n",
    "#     \"../../data/original/Ugly/1.pdf\",\n",
    "#     \"../../data/original/Ugly/2.pdf\",\n",
    "#     \"../../data/original/Ugly/3.pdf\",\n",
    "#     \"../../data/original/Ugly/4.pdf\",\n",
    "#     \"../../data/original/Ugly/5.pdf\",\n",
    "#     \"../../data/original/Ugly/6.pdf\",\n",
    "#     \"../../data/original/Ugly/7.pdf\",\n",
    "#     \"../../data/original/Ugly/8.pdf\",\n",
    "#     \"../../data/original/Ugly/9.pdf\",\n",
    "#     \"../../data/original/Ugly/10.pdf\",\n",
    "#     \"../../data/original/Ugly/11.pdf\"\n",
    "# ]\n",
    "files = [\n",
    "    \"../../data/original/Good/15316-100-D-006_Sheet1.pdf\",\n",
    "    \"../../data/original/Good/15316-100-D-020_Sheet2.pdf\",\n",
    "    \"../../data/original/Good/15316-100-D-040_Sheet1.pdf\",\n",
    "    \"../../data/original/Good/15316-100-D-041_Sheet1.pdf\"\n",
    "]"
   ],
   "id": "8b3be641905b4555",
   "outputs": [],
   "execution_count": 2
  },
  {
   "cell_type": "code",
   "id": "initial_id",
   "metadata": {
    "collapsed": true,
    "ExecuteTime": {
     "end_time": "2025-05-13T10:32:57.387026Z",
     "start_time": "2025-05-13T10:32:52.592014Z"
    }
   },
   "source": [
    "def process(files, output_dir):\n",
    "    os.makedirs(output_dir, exist_ok=True)\n",
    "    font = cv2.FONT_HERSHEY_SIMPLEX\n",
    "    fontScale = 1\n",
    "    color = (255, 0, 0)\n",
    "    thickness = 2\n",
    "\n",
    "    progress = tqdm(total=len(files), desc=\"Processing Input\", leave=True, position=0)\n",
    "    structures = []\n",
    "    image_data = []\n",
    "    for f in files:\n",
    "        img = read_pdf(f)\n",
    "\n",
    "        sorted_indices, contours, hierarchy_area = detect_objects(img)\n",
    "        title_contours, line_90, data = detect_probable_title_sections(img, return_states=True)\n",
    "        ocr_result = data[\"ocr_result\"]\n",
    "        mask = data[\"mask\"]\n",
    "        inner_border_lines = data[\"inner_border_lines\"]  #  0: Bottom, 1: Top, 2: Right, 3: Left\n",
    "        structures.append(mask)\n",
    "        image_data.append([f, img, ocr_result, inner_border_lines, title_contours, line_90, sorted_indices, contours, hierarchy_area])\n",
    "        progress.update()\n",
    "\n",
    "    borders, template = get_template_borders_from_structures(structures)\n",
    "\n",
    "    progress = tqdm(total=len(files), desc=\"Processing Output\", leave=True, position=0)\n",
    "    for mask, (f, img, ocr_result, inner_border_lines, title_contours, line_90, sorted_indices, contours, hierarchy_area) in zip(structures, image_data):\n",
    "        img_comp = img.copy()\n",
    "        im_h, im_w, _ = img.shape\n",
    "        words = process_text(ocr_result, im_h, im_w)\n",
    "\n",
    "        border_1, border_2 = detect_borders(contours, sorted_indices, words)\n",
    "        contours = detect_text_tables(img, words, mask)\n",
    "        title_contours = title_contours + contours\n",
    "\n",
    "        boundary = get_boundary(border_1, border_2, inner_border_lines)\n",
    "        title_boundary = get_title_boundary(boundary, line_90, title_contours, words, im_h)\n",
    "\n",
    "        for b in borders:\n",
    "            bx1, by1, bx2, by2 = b\n",
    "            cv2.line(img_comp, (bx1, by1), (bx2, by2), (0, 0, 255), 2)\n",
    "\n",
    "        # intersected_extended_lines, boundary_lines, boundary_title_block_lines, intersected_points = detect_intersection_with_borders(img.copy(), boundary, title_boundary, return_states=True)\n",
    "        #\n",
    "        # intersected_words = detect_intersected_texts(words, boundary_lines, boundary_title_block_lines)\n",
    "        # for idx, row in intersected_words.iterrows():\n",
    "        #     bx1, by1, bx2, by2 = row[[\"x1\", \"y1\", \"x2\", \"y2\"]].astype(int)\n",
    "        #     cv2.rectangle(img_comp, (bx1, by1), (bx2, by2), (0, 0, 255), 2)\n",
    "        #\n",
    "        # cv2.rectangle(img_comp, boundary[0], boundary[1], color, thickness)\n",
    "        # cv2.rectangle(img_comp, title_boundary[0], title_boundary[1], color, thickness)\n",
    "        #\n",
    "        # for x, y in intersected_points:\n",
    "        #     cv2.circle(img_comp, (int(x), int(y)), 20, (0, 0, 255), 2)\n",
    "        #\n",
    "        # for line in borders:\n",
    "        #     x1, y1, x2, y2 = line\n",
    "        #     cv2.line(img_comp, (x1, y1), (x2, y2), (255, 0, 0), thickness)\n",
    "\n",
    "        cv2.imwrite(f\"{output_dir}/{os.path.basename(f)}.jpg\", np.hstack((img, img_comp)))\n",
    "        progress.update(1)\n",
    "\n",
    "\n",
    "process(files, \"../../data/templates/template_1\")"
   ],
   "outputs": [
    {
     "name": "stderr",
     "output_type": "stream",
     "text": [
      "Processing Input: 100%|██████████| 4/4 [00:03<00:00,  1.25it/s]"
     ]
    },
    {
     "name": "stdout",
     "output_type": "stream",
     "text": [
      "Image Similarity: 93.8496%\n",
      "Image Similarity: 93.2276%\n",
      "Image Similarity: 91.8845%\n"
     ]
    },
    {
     "name": "stderr",
     "output_type": "stream",
     "text": [
      "Processing Input: 100%|██████████| 4/4 [00:04<00:00,  1.03s/it]\n",
      "Processing Output: 100%|██████████| 4/4 [00:00<00:00,  6.13it/s]\n"
     ]
    }
   ],
   "execution_count": 7
  },
  {
   "metadata": {
    "ExecuteTime": {
     "end_time": "2025-05-13T10:27:09.369798Z",
     "start_time": "2025-05-13T10:27:09.368494Z"
    }
   },
   "cell_type": "code",
   "source": "",
   "id": "f08663977481ce82",
   "outputs": [],
   "execution_count": null
  }
 ],
 "metadata": {
  "kernelspec": {
   "display_name": "Python 3",
   "language": "python",
   "name": "python3"
  },
  "language_info": {
   "codemirror_mode": {
    "name": "ipython",
    "version": 2
   },
   "file_extension": ".py",
   "mimetype": "text/x-python",
   "name": "python",
   "nbconvert_exporter": "python",
   "pygments_lexer": "ipython2",
   "version": "2.7.6"
  }
 },
 "nbformat": 4,
 "nbformat_minor": 5
}
