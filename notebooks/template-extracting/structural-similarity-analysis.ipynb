{
 "cells": [
  {
   "cell_type": "code",
   "id": "initial_id",
   "metadata": {
    "collapsed": true
   },
   "source": [
    "import math\n",
    "from glob import glob\n",
    "import os\n",
    "\n",
    "import cv2\n",
    "import numpy as np\n",
    "from PIL import Image\n",
    "from pdf2image import convert_from_path\n",
    "from imutils import resize\n",
    "from sklearn.metrics import euclidean_distances\n",
    "from tqdm import tqdm\n",
    "from scoring import *\n",
    "from border_and_title import *\n",
    "\n",
    "files = [\n",
    "    \"../../data/original/Good/300-014820.pdf\",\n",
    "    \"../../data/original/Good/300-014823.pdf\",\n",
    "    \"../../data/original/Good/300-014821.pdf\",\n",
    "    \"../../data/original/Good/300-014822.pdf\"\n",
    "]\n",
    "# files = [\n",
    "#     \"../../data/original/Ugly/000.001.360.pdf\",\n",
    "#     \"../../data/original/Ugly/000.000.537.pdf\"\n",
    "# ]\n",
    "\n",
    "font = cv2.FONT_HERSHEY_SIMPLEX\n",
    "fontScale = 1\n",
    "color = (255, 0, 0)\n",
    "thickness = 2\n",
    "\n",
    "def read_pdf(pdf_path):\n",
    "    pages = convert_from_path(pdf_path, dpi=300)\n",
    "    img = np.array(pages[0])\n",
    "    img = im_resize(img)\n",
    "    return img\n"
   ],
   "outputs": [],
   "execution_count": null
  },
  {
   "metadata": {},
   "cell_type": "code",
   "source": [
    "images = []\n",
    "cn_images = None\n",
    "\n",
    "\n",
    "for file in files:\n",
    "    img = read_pdf(file)\n",
    "    images.append(img)\n",
    "    print(images[-1].shape)\n",
    "\n",
    "    if cn_images is None:\n",
    "        cn_images = img\n",
    "    else:\n",
    "        cn_images = np.hstack((cn_images, img))\n",
    "\n",
    "\n",
    "Image.fromarray(cn_images)"
   ],
   "id": "eb65e244662229a8",
   "outputs": [],
   "execution_count": null
  },
  {
   "metadata": {},
   "cell_type": "code",
   "source": [
    "from skimage.metrics import structural_similarity\n",
    "import cv2\n",
    "\n",
    "def difference(image1, image2):\n",
    "    if len(image1.shape) == 3:\n",
    "        image1 = cv2.cvtColor(image1, cv2.COLOR_RGB2GRAY)\n",
    "\n",
    "    if len(image2.shape) == 3:\n",
    "        image2 = cv2.cvtColor(image2, cv2.COLOR_RGB2GRAY)\n",
    "\n",
    "    (score, diff) = structural_similarity(image1, image2, full=True)\n",
    "\n",
    "    diff = (diff * 255).astype(\"uint8\")\n",
    "    print(\"Image Similarity: {:.4f}%\".format(score * 100))\n",
    "\n",
    "\n",
    "\n",
    "    return diff, np.hstack((image1, image2, diff))\n",
    "\n",
    "diff, con = difference(images[0], images[1])\n",
    "Image.fromarray(con)"
   ],
   "id": "22fc64d0990aacfc",
   "outputs": [],
   "execution_count": null
  },
  {
   "metadata": {},
   "cell_type": "code",
   "source": [
    "diff, con = difference(images[1], images[2])\n",
    "Image.fromarray(con)"
   ],
   "id": "acc61ce2e6014a37",
   "outputs": [],
   "execution_count": null
  },
  {
   "metadata": {},
   "cell_type": "code",
   "source": [
    "diff, con = difference(images[2], images[3])\n",
    "Image.fromarray(con)"
   ],
   "id": "1a2908d718e09319",
   "outputs": [],
   "execution_count": null
  },
  {
   "metadata": {},
   "cell_type": "code",
   "source": [
    "masks = []\n",
    "no_texts = []\n",
    "\n",
    "for img in images:\n",
    "    title_contours, line_90, data = detect_probable_title_sections(img, return_states=True)\n",
    "    ocr_result = data[\"ocr_result\"]\n",
    "    mask = data[\"mask\"]\n",
    "    masks.append(mask)\n",
    "\n",
    "    im_h, im_w, _ = img.shape\n",
    "    words = process_text(ocr_result, im_h, im_w)\n",
    "    img_comp = img.copy()\n",
    "\n",
    "    for idx, row in words.iterrows():\n",
    "        bx1, by1, bx2, by2 = row[[\"x1\", \"y1\", \"x2\", \"y2\"]].astype(int)\n",
    "        cv2.rectangle(img_comp, (bx1, by1), (bx2, by2), (255, 255, 255), cv2.FILLED)\n",
    "\n",
    "    no_texts.append(img_comp)"
   ],
   "id": "d326009f35aa4c95",
   "outputs": [],
   "execution_count": null
  },
  {
   "metadata": {},
   "cell_type": "code",
   "source": [
    "diff, con = difference(masks[0], masks[1])\n",
    "Image.fromarray(con)"
   ],
   "id": "892b9a045681e002",
   "outputs": [],
   "execution_count": null
  },
  {
   "metadata": {},
   "cell_type": "code",
   "source": [
    "diff, con = difference(masks[1], masks[2])\n",
    "Image.fromarray(con)"
   ],
   "id": "3a141208f022c4d5",
   "outputs": [],
   "execution_count": null
  },
  {
   "metadata": {},
   "cell_type": "code",
   "source": [
    "diff, con = difference(masks[2], masks[3])\n",
    "Image.fromarray(con)"
   ],
   "id": "4061b720eb226f59",
   "outputs": [],
   "execution_count": null
  },
  {
   "metadata": {},
   "cell_type": "code",
   "source": [
    "diff, con = difference(no_texts[0], no_texts[1])\n",
    "Image.fromarray(con)"
   ],
   "id": "e8d4e25a64096b43",
   "outputs": [],
   "execution_count": null
  },
  {
   "metadata": {},
   "cell_type": "code",
   "source": [
    "diff, con = difference(no_texts[1], no_texts[2])\n",
    "Image.fromarray(con)"
   ],
   "id": "5d2daa1ac66d9643",
   "outputs": [],
   "execution_count": null
  },
  {
   "metadata": {},
   "cell_type": "code",
   "source": [
    "diff, con = difference(no_texts[2], no_texts[3])\n",
    "Image.fromarray(con)"
   ],
   "id": "8e31994fbeefbd46",
   "outputs": [],
   "execution_count": null
  },
  {
   "metadata": {},
   "cell_type": "code",
   "source": "Image.fromarray(diff)",
   "id": "be651c0a689d776b",
   "outputs": [],
   "execution_count": null
  },
  {
   "metadata": {},
   "cell_type": "code",
   "source": "",
   "id": "194a1994bc84e831",
   "outputs": [],
   "execution_count": null
  }
 ],
 "metadata": {
  "kernelspec": {
   "display_name": "Python 3",
   "language": "python",
   "name": "python3"
  },
  "language_info": {
   "codemirror_mode": {
    "name": "ipython",
    "version": 2
   },
   "file_extension": ".py",
   "mimetype": "text/x-python",
   "name": "python",
   "nbconvert_exporter": "python",
   "pygments_lexer": "ipython2",
   "version": "2.7.6"
  }
 },
 "nbformat": 4,
 "nbformat_minor": 5
}
