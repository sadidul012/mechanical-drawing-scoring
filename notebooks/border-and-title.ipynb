{
 "cells": [
  {
   "cell_type": "code",
   "id": "initial_id",
   "metadata": {
    "collapsed": true,
    "ExecuteTime": {
     "end_time": "2025-05-06T02:56:17.159705Z",
     "start_time": "2025-05-06T02:56:13.353624Z"
    }
   },
   "source": [
    "from glob import glob\n",
    "import os\n",
    "\n",
    "import cv2\n",
    "import numpy as np\n",
    "import torch\n",
    "from PIL import Image\n",
    "from pdf2image import convert_from_path\n",
    "from imutils import resize\n",
    "from tqdm import tqdm\n",
    "from scoring import *\n",
    "from border_and_title import *\n",
    "\n",
    "good = list(glob(\"../data/original/Good/*.pdf\"))\n",
    "ugly = list(glob(\"../data/original/Ugly/*.pdf\"))\n",
    "\n",
    "len(good), len(ugly)"
   ],
   "outputs": [
    {
     "data": {
      "text/plain": [
       "(16, 25)"
      ]
     },
     "execution_count": 1,
     "metadata": {},
     "output_type": "execute_result"
    }
   ],
   "execution_count": 1
  },
  {
   "metadata": {
    "ExecuteTime": {
     "end_time": "2025-05-06T02:56:17.202903Z",
     "start_time": "2025-05-06T02:56:17.198692Z"
    }
   },
   "cell_type": "code",
   "source": [
    "def process(files, output_dir):\n",
    "    os.makedirs(output_dir, exist_ok=True)\n",
    "    font = cv2.FONT_HERSHEY_SIMPLEX\n",
    "    fontScale = 1\n",
    "    color = (255, 0, 0)\n",
    "    thickness = 2\n",
    "\n",
    "    progress = tqdm(total=len(files))\n",
    "\n",
    "    for f in files:\n",
    "        pages = convert_from_path(f, dpi=300)\n",
    "        img = np.array(pages[0])\n",
    "        img = im_resize(img)\n",
    "        img_comp = img.copy()\n",
    "        im_h, im_w, _ = img.shape\n",
    "\n",
    "        sorted_indices, contours, hierarchy_area = detect_objects(img)\n",
    "        border_1, border_2 = detect_borders(contours, sorted_indices)\n",
    "        x, y, w, h = border_1\n",
    "        cv2.rectangle(img_comp, (x, y), (x+w, y+h), color, 10)\n",
    "        x, y, w, h = border_2\n",
    "        cv2.rectangle(img_comp, (x, y), (x+w, y+h), color, 10)\n",
    "\n",
    "        title_contours, line_90 = detect_probable_title_sections(img)\n",
    "\n",
    "        bb = []\n",
    "        for cnt in title_contours:\n",
    "            x, y, w, h = cv2.boundingRect(cnt)\n",
    "            aspect_ratio = w / float(h)\n",
    "            area = w * h\n",
    "\n",
    "            if area > 7000 and 1.3 < aspect_ratio < 10:\n",
    "                if y > int((im_h * 70) / 100) and y+h > int((im_h * 93) / 100):\n",
    "                    # cv2.rectangle(img_comp, (x, y), (x + w, y + h), (255, 0, 0), 10)\n",
    "                    bb.append((x, y, x+w, y+h))\n",
    "                elif y > int((im_h * 80) / 100) and y+h > int((im_h * 90) / 100):\n",
    "                    # cv2.rectangle(img_comp, (x, y), (x + w, y + h), (255, 0, 0), 10)\n",
    "                    bb.append((x, y, x+w, y+h))\n",
    "\n",
    "        try:\n",
    "            bb = np.array(bb)\n",
    "\n",
    "            if line_90 is not None:\n",
    "                x1, y1, x2, y2 = line_90\n",
    "                # cv2.line(img_comp, (x1, y1), (x2, y2), color, 5)\n",
    "                cv2.rectangle(img_comp, (x1, y1), (x2, im_h), color, 10)\n",
    "            else:\n",
    "                cv2.rectangle(img_comp, (bb[:, 0].min(), bb[:, 1].min()), (bb[:, 2].max(), im_h), color, 10)\n",
    "        except IndexError:\n",
    "            print(f)\n",
    "            print(bb)\n",
    "\n",
    "        cv2.imwrite(f\"{output_dir}/{os.path.basename(f)}.jpg\", img_comp)\n",
    "        progress.update(1)"
   ],
   "id": "29e5e085dac0252a",
   "outputs": [],
   "execution_count": 2
  },
  {
   "metadata": {
    "ExecuteTime": {
     "end_time": "2025-05-06T02:56:55.755027Z",
     "start_time": "2025-05-06T02:56:17.245725Z"
    }
   },
   "cell_type": "code",
   "source": [
    "process(ugly, \"../data/border-and-title/ugly\")\n",
    "process(good, \"../data/border-and-title/good\")"
   ],
   "id": "a51cf0ce33214051",
   "outputs": [
    {
     "name": "stderr",
     "output_type": "stream",
     "text": [
      " 28%|██▊       | 7/25 [00:06<00:17,  1.02it/s]/home/sadid/anaconda3/lib/python3.12/site-packages/PIL/Image.py:3186: DecompressionBombWarning: Image size (139513096 pixels) exceeds limit of 89478485 pixels, could be decompression bomb DOS attack.\n",
      "  warnings.warn(\n",
      " 96%|█████████▌| 24/25 [00:21<00:00,  1.21it/s]/home/sadid/anaconda3/lib/python3.12/site-packages/PIL/Image.py:3186: DecompressionBombWarning: Image size (139513096 pixels) exceeds limit of 89478485 pixels, could be decompression bomb DOS attack.\n",
      "  warnings.warn(\n",
      "100%|██████████| 25/25 [00:23<00:00,  1.07it/s]\n",
      " 38%|███▊      | 6/16 [00:04<00:07,  1.40it/s]"
     ]
    },
    {
     "name": "stdout",
     "output_type": "stream",
     "text": [
      "../data/original/Good/Apple.pdf\n",
      "[]\n"
     ]
    },
    {
     "name": "stderr",
     "output_type": "stream",
     "text": [
      "100%|██████████| 16/16 [00:15<00:00,  1.05it/s]\n"
     ]
    }
   ],
   "execution_count": 3
  }
 ],
 "metadata": {
  "kernelspec": {
   "display_name": "Python 3",
   "language": "python",
   "name": "python3"
  },
  "language_info": {
   "codemirror_mode": {
    "name": "ipython",
    "version": 2
   },
   "file_extension": ".py",
   "mimetype": "text/x-python",
   "name": "python",
   "nbconvert_exporter": "python",
   "pygments_lexer": "ipython2",
   "version": "2.7.6"
  }
 },
 "nbformat": 4,
 "nbformat_minor": 5
}
