{
 "cells": [
  {
   "cell_type": "code",
   "id": "initial_id",
   "metadata": {
    "collapsed": true,
    "ExecuteTime": {
     "end_time": "2025-05-05T11:26:34.554556Z",
     "start_time": "2025-05-05T11:26:30.711130Z"
    }
   },
   "source": [
    "from glob import glob\n",
    "import os\n",
    "\n",
    "import cv2\n",
    "import numpy as np\n",
    "import torch\n",
    "from PIL import Image\n",
    "from pdf2image import convert_from_path\n",
    "from imutils import resize\n",
    "from tqdm import tqdm\n",
    "from scoring import *\n",
    "from border_and_title import *\n",
    "\n",
    "good = list(glob(\"../data/original/Good/*.pdf\"))\n",
    "ugly = list(glob(\"../data/original/Ugly/*.pdf\"))\n",
    "\n",
    "len(good), len(ugly)"
   ],
   "outputs": [
    {
     "data": {
      "text/plain": [
       "(16, 25)"
      ]
     },
     "execution_count": 1,
     "metadata": {},
     "output_type": "execute_result"
    }
   ],
   "execution_count": 1
  },
  {
   "metadata": {
    "ExecuteTime": {
     "end_time": "2025-05-05T11:26:34.563857Z",
     "start_time": "2025-05-05T11:26:34.558573Z"
    }
   },
   "cell_type": "code",
   "source": [
    "def process(files, output_dir):\n",
    "    os.makedirs(output_dir, exist_ok=True)\n",
    "    font = cv2.FONT_HERSHEY_SIMPLEX\n",
    "    fontScale = 1\n",
    "    color = (255, 0, 0)\n",
    "    thickness = 2\n",
    "\n",
    "    progress = tqdm(total=len(files))\n",
    "\n",
    "    for f in files:\n",
    "        pages = convert_from_path(f, dpi=300)\n",
    "        img = np.array(pages[0])\n",
    "        img = im_resize(img)\n",
    "        img_comp = img.copy()\n",
    "        im_h, im_w, _ = img.shape\n",
    "\n",
    "        sorted_indices, contours, hierarchy_area = detect_objects(img)\n",
    "        border_1, border_2 = detect_borders(contours, sorted_indices)\n",
    "        x, y, w, h = border_1\n",
    "        cv2.rectangle(img_comp, (x, y), (x+w, y+h), (0, 255, 0), 10)\n",
    "        x, y, w, h = border_2\n",
    "        cv2.rectangle(img_comp, (x, y), (x+w, y+h), (0, 255, 0), 10)\n",
    "\n",
    "        title_contours = detect_probable_title_sections(img)\n",
    "\n",
    "        for cnt in title_contours:\n",
    "            x, y, w, h = cv2.boundingRect(cnt)\n",
    "            aspect_ratio = w / float(h)\n",
    "            area = w * h\n",
    "\n",
    "            if area > 7000 and 1.3 < aspect_ratio < 10:\n",
    "                if y > int((im_h * 70) / 100) and y+h > int((im_h * 93) / 100):\n",
    "                    cv2.rectangle(img_comp, (x, y), (x + w, y + h), (255, 0, 0), 10)\n",
    "                elif y > int((im_h * 80) / 100) and y+h > int((im_h * 90) / 100):\n",
    "                    cv2.rectangle(img_comp, (x, y), (x + w, y + h), (255, 0, 0), 10)\n",
    "\n",
    "        cv2.imwrite(f\"{output_dir}/{os.path.basename(f)}.jpg\", img_comp)\n",
    "        progress.update(1)"
   ],
   "id": "29e5e085dac0252a",
   "outputs": [],
   "execution_count": 2
  },
  {
   "metadata": {
    "ExecuteTime": {
     "end_time": "2025-05-05T11:27:13.289614Z",
     "start_time": "2025-05-05T11:26:34.613629Z"
    }
   },
   "cell_type": "code",
   "source": [
    "process(ugly, \"../data/border-and-title/ugly\")\n",
    "process(good, \"../data/border-and-title/good\")"
   ],
   "id": "a51cf0ce33214051",
   "outputs": [
    {
     "name": "stderr",
     "output_type": "stream",
     "text": [
      " 28%|██▊       | 7/25 [00:06<00:16,  1.08it/s]/home/sadid/anaconda3/lib/python3.12/site-packages/PIL/Image.py:3186: DecompressionBombWarning: Image size (139513096 pixels) exceeds limit of 89478485 pixels, could be decompression bomb DOS attack.\n",
      "  warnings.warn(\n",
      " 96%|█████████▌| 24/25 [00:21<00:00,  1.17it/s]/home/sadid/anaconda3/lib/python3.12/site-packages/PIL/Image.py:3186: DecompressionBombWarning: Image size (139513096 pixels) exceeds limit of 89478485 pixels, could be decompression bomb DOS attack.\n",
      "  warnings.warn(\n",
      "100%|██████████| 25/25 [00:23<00:00,  1.08it/s]\n",
      "100%|██████████| 16/16 [00:15<00:00,  1.04it/s]\n"
     ]
    }
   ],
   "execution_count": 3
  }
 ],
 "metadata": {
  "kernelspec": {
   "display_name": "Python 3",
   "language": "python",
   "name": "python3"
  },
  "language_info": {
   "codemirror_mode": {
    "name": "ipython",
    "version": 2
   },
   "file_extension": ".py",
   "mimetype": "text/x-python",
   "name": "python",
   "nbconvert_exporter": "python",
   "pygments_lexer": "ipython2",
   "version": "2.7.6"
  }
 },
 "nbformat": 4,
 "nbformat_minor": 5
}
