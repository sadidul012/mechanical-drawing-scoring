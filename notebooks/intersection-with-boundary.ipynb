{
 "cells": [
  {
   "cell_type": "code",
   "id": "initial_id",
   "metadata": {
    "collapsed": true,
    "ExecuteTime": {
     "end_time": "2025-05-19T10:24:57.450908Z",
     "start_time": "2025-05-19T10:24:53.390943Z"
    }
   },
   "source": [
    "from glob import glob\n",
    "import os\n",
    "\n",
    "import cv2\n",
    "import numpy as np\n",
    "import torch\n",
    "from PIL import Image\n",
    "from pdf2image import convert_from_path\n",
    "from imutils import resize\n",
    "from tqdm import tqdm\n",
    "from scoring import *\n",
    "from border_and_title import *\n",
    "from main import generate_output\n",
    "from template_extraction import *\n",
    "\n",
    "good = list(glob(\"../data/original/Good/*.pdf\")) + list(glob(\"../data/original/Good/*.png\")) + list(glob(\"../data/original/Good/*.tif\"))\n",
    "ugly = list(glob(\"../data/original/Ugly/*.pdf\")) + list(glob(\"../data/original/Ugly/*.png\")) + list(glob(\"../data/original/Ugly/*.tif\"))\n",
    "\n",
    "len(good), len(ugly)"
   ],
   "outputs": [
    {
     "data": {
      "text/plain": [
       "(20, 25)"
      ]
     },
     "execution_count": 1,
     "metadata": {},
     "output_type": "execute_result"
    }
   ],
   "execution_count": 1
  },
  {
   "metadata": {
    "ExecuteTime": {
     "end_time": "2025-05-19T10:24:57.505090Z",
     "start_time": "2025-05-19T10:24:57.500230Z"
    }
   },
   "cell_type": "code",
   "source": [
    "def process(files, output_dir):\n",
    "    os.makedirs(output_dir, exist_ok=True)\n",
    "    font = cv2.FONT_HERSHEY_SIMPLEX\n",
    "    fontScale = 1\n",
    "    color = (255, 0, 0)\n",
    "    thickness = 2\n",
    "\n",
    "    progress = tqdm(total=len(files))\n",
    "\n",
    "    for f in files:\n",
    "        try:\n",
    "            data = generate_output(f)\n",
    "            img = data[\"img\"]\n",
    "            mask = data[\"mask\"]\n",
    "            boundary = data[\"boundary\"]\n",
    "            title_blocks = data[\"title_blocks\"]\n",
    "            im_h = data[\"im_h\"]\n",
    "            im_w = data[\"im_w\"]\n",
    "            words = data[\"words\"]\n",
    "            border_lines = data[\"border_lines\"]\n",
    "\n",
    "            borders = get_border_lines(border_lines, im_h)\n",
    "            template_lines, intersection_lines, intersection_points, intersected_words = detect_intersection_with_template(\n",
    "                img,\n",
    "                boundary,\n",
    "                borders,\n",
    "                words,\n",
    "                x_index_titles,\n",
    "                y_index_titles,\n",
    "                tolerance=30\n",
    "            )\n",
    "\n",
    "            img_comp = img.copy()\n",
    "            cv2.rectangle(img_comp, boundary[0], boundary[1], (0, 255, 0), 2)\n",
    "            for title_block in title_blocks:\n",
    "                bx1, by1, bx2, by2 = title_block\n",
    "                cv2.rectangle(img_comp, (bx1, by1), (bx2, by2), (0, 255, 0), 2)\n",
    "\n",
    "            for idx, row in intersected_words.iterrows():\n",
    "                bx1, by1, bx2, by2 = row[[\"x1\", \"y1\", \"x2\", \"y2\"]].astype(int)\n",
    "                cv2.rectangle(img_comp, (bx1, by1), (bx2, by2), (0, 0, 255), 2)\n",
    "\n",
    "            for point in intersection_points:\n",
    "                if point is not None:\n",
    "                    x1, y1 = point\n",
    "                    cv2.circle(img_comp, (int(x1), int(y1)), 10, (0, 0, 255), 2)\n",
    "            cv2.imwrite(f\"{output_dir}/{os.path.basename(f)}.jpg\", np.hstack((img, img_comp)))\n",
    "        except Exception as e:\n",
    "            print(f\"{f}: {e}\")\n",
    "        progress.update(1)"
   ],
   "id": "c305d06ffdcf8680",
   "outputs": [],
   "execution_count": 2
  },
  {
   "metadata": {
    "ExecuteTime": {
     "end_time": "2025-05-19T10:26:18.077813Z",
     "start_time": "2025-05-19T10:24:57.547821Z"
    }
   },
   "cell_type": "code",
   "source": [
    "process(ugly, \"../data/intersection-with-boundary/ugly\")\n",
    "process(good, \"../data/intersection-with-boundary/good\")"
   ],
   "id": "ba31e2d3774237a7",
   "outputs": [
    {
     "name": "stderr",
     "output_type": "stream",
     "text": [
      " 28%|██▊       | 7/25 [00:09<00:25,  1.39s/it]/home/sadid/anaconda3/lib/python3.12/site-packages/PIL/Image.py:3186: DecompressionBombWarning: Image size (139513096 pixels) exceeds limit of 89478485 pixels, could be decompression bomb DOS attack.\n",
      "  warnings.warn(\n",
      " 96%|█████████▌| 24/25 [00:36<00:01,  1.95s/it]/home/sadid/anaconda3/lib/python3.12/site-packages/PIL/Image.py:3186: DecompressionBombWarning: Image size (139513096 pixels) exceeds limit of 89478485 pixels, could be decompression bomb DOS attack.\n",
      "  warnings.warn(\n",
      "100%|██████████| 25/25 [00:38<00:00,  1.56s/it]\n",
      "  5%|▌         | 1/20 [00:01<00:24,  1.28s/it]"
     ]
    },
    {
     "name": "stdout",
     "output_type": "stream",
     "text": [
      "../data/original/Good/15316-100-D-040_Sheet1.pdf: too many indices for array: array is 1-dimensional, but 2 were indexed\n"
     ]
    },
    {
     "name": "stderr",
     "output_type": "stream",
     "text": [
      " 10%|█         | 2/20 [00:02<00:23,  1.32s/it]"
     ]
    },
    {
     "name": "stdout",
     "output_type": "stream",
     "text": [
      "../data/original/Good/15316-100-D-006_Sheet1.pdf: too many indices for array: array is 1-dimensional, but 2 were indexed\n"
     ]
    },
    {
     "name": "stderr",
     "output_type": "stream",
     "text": [
      " 20%|██        | 4/20 [00:07<00:30,  1.89s/it]"
     ]
    },
    {
     "name": "stdout",
     "output_type": "stream",
     "text": [
      "../data/original/Good/15316-100-D-041_Sheet1.pdf: too many indices for array: array is 1-dimensional, but 2 were indexed\n"
     ]
    },
    {
     "name": "stderr",
     "output_type": "stream",
     "text": [
      " 30%|███       | 6/20 [00:09<00:20,  1.46s/it]"
     ]
    },
    {
     "name": "stdout",
     "output_type": "stream",
     "text": [
      "../data/original/Good/Apple.pdf: too many indices for array: array is 1-dimensional, but 2 were indexed\n"
     ]
    },
    {
     "name": "stderr",
     "output_type": "stream",
     "text": [
      " 50%|█████     | 10/20 [00:18<00:18,  1.86s/it]"
     ]
    },
    {
     "name": "stdout",
     "output_type": "stream",
     "text": [
      "../data/original/Good/300-014833.pdf: too many indices for array: array is 1-dimensional, but 2 were indexed\n"
     ]
    },
    {
     "name": "stderr",
     "output_type": "stream",
     "text": [
      " 80%|████████  | 16/20 [00:33<00:08,  2.15s/it]"
     ]
    },
    {
     "name": "stdout",
     "output_type": "stream",
     "text": [
      "../data/original/Good/300-014821.pdf: too many indices for array: array is 1-dimensional, but 2 were indexed\n"
     ]
    },
    {
     "name": "stderr",
     "output_type": "stream",
     "text": [
      "100%|██████████| 20/20 [00:41<00:00,  2.08s/it]"
     ]
    },
    {
     "name": "stdout",
     "output_type": "stream",
     "text": [
      "../data/original/Good/M2037041020001.TIF.tif: not enough values to unpack (expected 3, got 2)\n",
      "../data/original/Good/M1142248090001.TIF.tif: not enough values to unpack (expected 3, got 2)\n"
     ]
    },
    {
     "name": "stderr",
     "output_type": "stream",
     "text": [
      "\n"
     ]
    }
   ],
   "execution_count": 3
  }
 ],
 "metadata": {
  "kernelspec": {
   "display_name": "Python 3",
   "language": "python",
   "name": "python3"
  },
  "language_info": {
   "codemirror_mode": {
    "name": "ipython",
    "version": 2
   },
   "file_extension": ".py",
   "mimetype": "text/x-python",
   "name": "python",
   "nbconvert_exporter": "python",
   "pygments_lexer": "ipython2",
   "version": "2.7.6"
  }
 },
 "nbformat": 4,
 "nbformat_minor": 5
}
