{
 "cells": [
  {
   "cell_type": "code",
   "id": "initial_id",
   "metadata": {
    "collapsed": true,
    "ExecuteTime": {
     "end_time": "2025-05-15T06:02:35.260630Z",
     "start_time": "2025-05-15T06:02:31.311286Z"
    }
   },
   "source": [
    "from glob import glob\n",
    "import os\n",
    "\n",
    "import cv2\n",
    "import numpy as np\n",
    "import torch\n",
    "from PIL import Image\n",
    "from pdf2image import convert_from_path\n",
    "from imutils import resize\n",
    "from tqdm import tqdm\n",
    "from scoring import *\n",
    "from border_and_title import *\n",
    "\n",
    "good = list(glob(\"../data/original/Good/*.pdf\"))\n",
    "ugly = list(glob(\"../data/original/Ugly/*.pdf\"))\n",
    "\n",
    "len(good), len(ugly)"
   ],
   "outputs": [
    {
     "data": {
      "text/plain": [
       "(16, 25)"
      ]
     },
     "execution_count": 1,
     "metadata": {},
     "output_type": "execute_result"
    }
   ],
   "execution_count": 1
  },
  {
   "metadata": {
    "ExecuteTime": {
     "end_time": "2025-05-15T06:02:35.308322Z",
     "start_time": "2025-05-15T06:02:35.304376Z"
    }
   },
   "cell_type": "code",
   "source": [
    "def process(files, output_dir):\n",
    "    os.makedirs(output_dir, exist_ok=True)\n",
    "    font = cv2.FONT_HERSHEY_SIMPLEX\n",
    "    fontScale = 1\n",
    "    color = (255, 0, 0)\n",
    "    thickness = 2\n",
    "\n",
    "    progress = tqdm(total=len(files))\n",
    "\n",
    "    for f in files:\n",
    "        pages = convert_from_path(f, dpi=300)\n",
    "        img = np.array(pages[0])\n",
    "        img = im_resize(img)\n",
    "        img_comp = img.copy()\n",
    "\n",
    "        im_h, im_w, _ = img.shape\n",
    "        sorted_indices, contours, hierarchy_area = detect_objects(img)\n",
    "        title_contours, line_90, data = detect_probable_title_sections(img, return_states=True)\n",
    "        ocr_result = data[\"ocr_result\"]\n",
    "        mask = data[\"mask\"]\n",
    "        inner_border_lines = data[\"inner_border_lines\"]  #  0: Bottom, 1: Top, 2: Right, 3: Left\n",
    "        words = process_text(ocr_result, im_h, im_w)\n",
    "\n",
    "        border_1, border_2 = detect_borders(contours, sorted_indices, words)\n",
    "        contours = detect_text_tables(img, words, mask)\n",
    "        title_contours = title_contours + contours\n",
    "\n",
    "        boundary = get_boundary(border_1, border_2, inner_border_lines)\n",
    "        title_boundary = get_title_boundary(boundary, line_90, title_contours, words, im_h)\n",
    "\n",
    "        intersected_extended_lines, boundary_lines, boundary_title_block_lines, intersected_points = detect_intersection_with_borders(img.copy(), boundary, title_boundary, return_states=True)\n",
    "\n",
    "        intersected_words = detect_intersected_texts(words, boundary_lines, boundary_title_block_lines)\n",
    "        for idx, row in intersected_words.iterrows():\n",
    "            bx1, by1, bx2, by2 = row[[\"x1\", \"y1\", \"x2\", \"y2\"]].astype(int)\n",
    "            cv2.rectangle(img_comp, (bx1, by1), (bx2, by2), (0, 0, 255), 2)\n",
    "\n",
    "        cv2.rectangle(img_comp, boundary[0], boundary[1], color, thickness)\n",
    "        cv2.rectangle(img_comp, title_boundary[0], title_boundary[1], color, thickness)\n",
    "\n",
    "        # for x1, y1, x2, y2 in intersected_extended_lines:\n",
    "        #     cv2.line(img_comp, (x1, y1), (x2, y2), (0, 0, 255), 2)\n",
    "\n",
    "        for x, y in intersected_points:\n",
    "            cv2.circle(img_comp, (int(x), int(y)), 20, (0, 0, 255), 2)\n",
    "\n",
    "        cv2.imwrite(f\"{output_dir}/{os.path.basename(f)}.jpg\", np.hstack((img, img_comp)))\n",
    "        progress.update(1)"
   ],
   "id": "c305d06ffdcf8680",
   "outputs": [],
   "execution_count": 2
  },
  {
   "metadata": {
    "ExecuteTime": {
     "end_time": "2025-05-15T06:03:31.826587Z",
     "start_time": "2025-05-15T06:02:35.354061Z"
    }
   },
   "cell_type": "code",
   "source": [
    "process(ugly, \"../data/intersection-with-boundary/ugly\")\n",
    "process(good, \"../data/intersection-with-boundary/good\")"
   ],
   "id": "ba31e2d3774237a7",
   "outputs": [
    {
     "name": "stderr",
     "output_type": "stream",
     "text": [
      " 28%|██▊       | 7/25 [00:07<00:20,  1.13s/it]/home/sadid/anaconda3/lib/python3.12/site-packages/PIL/Image.py:3186: DecompressionBombWarning: Image size (139513096 pixels) exceeds limit of 89478485 pixels, could be decompression bomb DOS attack.\n",
      "  warnings.warn(\n",
      " 96%|█████████▌| 24/25 [00:25<00:01,  1.04s/it]/home/sadid/anaconda3/lib/python3.12/site-packages/PIL/Image.py:3186: DecompressionBombWarning: Image size (139513096 pixels) exceeds limit of 89478485 pixels, could be decompression bomb DOS attack.\n",
      "  warnings.warn(\n",
      "100%|██████████| 25/25 [00:27<00:00,  1.11s/it]\n",
      "100%|██████████| 16/16 [00:28<00:00,  1.79s/it]\n"
     ]
    }
   ],
   "execution_count": 3
  }
 ],
 "metadata": {
  "kernelspec": {
   "display_name": "Python 3",
   "language": "python",
   "name": "python3"
  },
  "language_info": {
   "codemirror_mode": {
    "name": "ipython",
    "version": 2
   },
   "file_extension": ".py",
   "mimetype": "text/x-python",
   "name": "python",
   "nbconvert_exporter": "python",
   "pygments_lexer": "ipython2",
   "version": "2.7.6"
  }
 },
 "nbformat": 4,
 "nbformat_minor": 5
}
