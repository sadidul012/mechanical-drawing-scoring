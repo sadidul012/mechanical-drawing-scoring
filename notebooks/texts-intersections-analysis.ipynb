{
 "cells": [
  {
   "metadata": {
    "ExecuteTime": {
     "end_time": "2025-05-04T10:54:48.742956Z",
     "start_time": "2025-05-04T10:54:46.823986Z"
    }
   },
   "cell_type": "code",
   "source": [
    "from glob import glob\n",
    "import os\n",
    "\n",
    "import cv2\n",
    "import numpy as np\n",
    "from PIL import Image\n",
    "from pdf2image import convert_from_path\n",
    "from imutils import resize\n",
    "from tqdm import tqdm\n",
    "from scoring import *\n",
    "from doctr.models import ocr_predictor\n",
    "from doctr.io import DocumentFile\n",
    "\n",
    "good = list(glob(\"../data/original/Good/*.pdf\"))\n",
    "ugly = list(glob(\"../data/original/Ugly/*.pdf\"))\n",
    "\n",
    "len(good), len(ugly)"
   ],
   "id": "a0bce142e4fc6746",
   "outputs": [
    {
     "data": {
      "text/plain": [
       "(16, 25)"
      ]
     },
     "execution_count": 1,
     "metadata": {},
     "output_type": "execute_result"
    }
   ],
   "execution_count": 1
  },
  {
   "metadata": {
    "ExecuteTime": {
     "end_time": "2025-05-04T10:54:50.564948Z",
     "start_time": "2025-05-04T10:54:48.781598Z"
    }
   },
   "cell_type": "code",
   "source": [
    "ocr_model = ocr_predictor('db_resnet50', 'crnn_vgg16_bn', pretrained=True)\n",
    "\n",
    "\n",
    "def process(files, output_dir):\n",
    "    os.makedirs(output_dir, exist_ok=True)\n",
    "    font = cv2.FONT_HERSHEY_SIMPLEX\n",
    "    fontScale = 0.5\n",
    "    color = (255, 0, 0)\n",
    "    thickness = 1\n",
    "\n",
    "    progress = tqdm(total=len(files))\n",
    "\n",
    "    for f in files:\n",
    "        pages = convert_from_path(f, dpi=300)\n",
    "        img = np.array(pages[0])\n",
    "        img = im_resize(img)\n",
    "        img_comp = img.copy()\n",
    "        h, w, _ = img.shape\n",
    "\n",
    "        gray = cv2.cvtColor(img_comp, cv2.COLOR_BGR2GRAY)\n",
    "        blurred = cv2.GaussianBlur(gray, (3, 3), 0)\n",
    "\n",
    "        edges = cv2.Canny(blurred, 50, 150)\n",
    "        lines = cv2.HoughLinesP(edges, 1, np.pi / 180, threshold=100, minLineLength=50, maxLineGap=10)\n",
    "\n",
    "        img_doc = DocumentFile.from_pdf(f)\n",
    "        ocr_result = ocr_model(img_doc)\n",
    "\n",
    "        for line in lines:\n",
    "            x1, y1, x2, y2 = line[0]\n",
    "            cv2.line(img_comp, (x1, y1), (x2, y2), (0, 255, 0), 1)\n",
    "\n",
    "        for block in ocr_result.pages[0].blocks:\n",
    "            for line in block.lines:\n",
    "                for word in line.words:\n",
    "                    (x_min, y_min), (x_max, y_max) = word.geometry\n",
    "                    x_min = int(x_min * w)\n",
    "                    y_min = int(y_min * h)\n",
    "                    x_max = int(x_max * w)\n",
    "                    y_max = int(y_max * h)\n",
    "\n",
    "                    cv2.rectangle(img_comp, (x_min, y_min), (x_max, y_max), color, 2)\n",
    "                    # cv2.putText(img_comp, word.value, (x_min, y_min - 5), font, fontScale, color, thickness)\n",
    "\n",
    "        cv2.imwrite(f\"{output_dir}/{os.path.basename(f)}.jpg\", img_comp)\n",
    "        progress.update()\n"
   ],
   "id": "bef9194b5e03381a",
   "outputs": [],
   "execution_count": 2
  },
  {
   "metadata": {
    "ExecuteTime": {
     "end_time": "2025-05-04T10:56:11.056291Z",
     "start_time": "2025-05-04T10:54:50.572401Z"
    }
   },
   "cell_type": "code",
   "source": "process(good, \"../data/text-intersections/good\")",
   "id": "35f186f6dd958b39",
   "outputs": [
    {
     "name": "stderr",
     "output_type": "stream",
     "text": [
      "100%|██████████| 16/16 [01:20<00:00,  5.03s/it]\n"
     ]
    }
   ],
   "execution_count": 3
  },
  {
   "metadata": {
    "ExecuteTime": {
     "end_time": "2025-05-04T10:57:12.892403Z",
     "start_time": "2025-05-04T10:56:11.068353Z"
    }
   },
   "cell_type": "code",
   "source": "process(ugly, \"../data/text-intersections/ugly\")",
   "id": "cfbfd1651566c7ee",
   "outputs": [
    {
     "name": "stderr",
     "output_type": "stream",
     "text": [
      " 28%|██▊       | 7/25 [00:17<00:44,  2.46s/it]/home/sadid/anaconda3/lib/python3.12/site-packages/PIL/Image.py:3186: DecompressionBombWarning: Image size (139513096 pixels) exceeds limit of 89478485 pixels, could be decompression bomb DOS attack.\n",
      "  warnings.warn(\n",
      " 96%|█████████▌| 24/25 [00:58<00:02,  2.64s/it]/home/sadid/anaconda3/lib/python3.12/site-packages/PIL/Image.py:3186: DecompressionBombWarning: Image size (139513096 pixels) exceeds limit of 89478485 pixels, could be decompression bomb DOS attack.\n",
      "  warnings.warn(\n",
      "100%|██████████| 25/25 [01:01<00:00,  2.47s/it]\n"
     ]
    }
   ],
   "execution_count": 4
  }
 ],
 "metadata": {
  "kernelspec": {
   "display_name": "Python 3",
   "language": "python",
   "name": "python3"
  },
  "language_info": {
   "codemirror_mode": {
    "name": "ipython",
    "version": 2
   },
   "file_extension": ".py",
   "mimetype": "text/x-python",
   "name": "python",
   "nbconvert_exporter": "python",
   "pygments_lexer": "ipython2",
   "version": "2.7.6"
  }
 },
 "nbformat": 4,
 "nbformat_minor": 5
}
