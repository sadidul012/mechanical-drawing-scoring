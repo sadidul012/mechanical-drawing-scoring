{
 "cells": [
  {
   "metadata": {},
   "cell_type": "code",
   "source": [
    "import cv2\n",
    "import numpy as np\n",
    "from PIL import Image\n",
    "from pdf2image import convert_from_path\n",
    "from imutils import resize\n",
    "\n",
    "pages = convert_from_path('../../data/original/Good/ME-19505.pdf', dpi=300)\n",
    "print(len(pages))\n",
    "img = np.array(pages[0])\n",
    "\n",
    "# img = resize(img, 800)\n",
    "Image.fromarray(img)"
   ],
   "id": "3ed63584cd574245",
   "outputs": [],
   "execution_count": null
  },
  {
   "metadata": {},
   "cell_type": "code",
   "source": [
    "img_copy = img.copy()\n",
    "gray = cv2.cvtColor(img_copy, cv2.COLOR_BGR2GRAY)\n",
    "\n",
    "thresh = cv2.adaptiveThreshold(\n",
    "    gray, 255,\n",
    "    cv2.ADAPTIVE_THRESH_GAUSSIAN_C,\n",
    "    cv2.THRESH_BINARY_INV,\n",
    "    11, 2\n",
    ")\n",
    "\n",
    "kernel = np.ones((3,3), np.uint8)\n",
    "dilated = cv2.dilate(thresh, kernel, iterations=1)\n",
    "\n",
    "contours, hierarchy = cv2.findContours(\n",
    "    dilated,\n",
    "    cv2.RETR_CCOMP,\n",
    "    cv2.CHAIN_APPROX_SIMPLE\n",
    ")\n",
    "\n",
    "areas = []\n",
    "\n",
    "for cnt in contours:\n",
    "    areas.append(cv2.contourArea(cnt))\n",
    "\n",
    "def get_sorted_indices(data):\n",
    "    return [i[0] for i in sorted(enumerate(data), key=lambda x: x[1], reverse=True)]\n",
    "\n",
    "sorted_indices = get_sorted_indices(areas)\n",
    "\n",
    "sorted_indices[:5]"
   ],
   "id": "167668d2ebaa499f",
   "outputs": [],
   "execution_count": null
  },
  {
   "metadata": {},
   "cell_type": "code",
   "source": [
    "img_comp = img.copy()\n",
    "\n",
    "index = sorted_indices[0]\n",
    "print(hierarchy[0][index])\n",
    "x, y, w, h = cv2.boundingRect(contours[index])\n",
    "cv2.rectangle(img_comp, (x, y), (x+w, y+h), (0, 255, 0), 10)\n",
    "\n",
    "index = sorted_indices[1]\n",
    "print(hierarchy[0][index])\n",
    "x, y, w, h = cv2.boundingRect(contours[index])\n",
    "cv2.rectangle(img_comp, (x, y), (x+w, y+h), (0, 255, 0), 10)\n",
    "\n",
    "Image.fromarray(img_comp)"
   ],
   "id": "1b5769697c6049d4",
   "outputs": [],
   "execution_count": null
  },
  {
   "metadata": {},
   "cell_type": "code",
   "source": [
    "import random\n",
    "\n",
    "\n",
    "random.seed(42)\n",
    "\n",
    "\n",
    "def random_rgb_color():\n",
    "  \"\"\"Generates a random RGB color as a tuple of integers (0-255).\"\"\"\n",
    "  r = random.randint(0, 255)\n",
    "  g = random.randint(0, 255)\n",
    "  b = random.randint(0, 255)\n",
    "\n",
    "  return r, g, b\n",
    "\n",
    "\n",
    "random_rgb_color()"
   ],
   "id": "bf18c25fee5ea5ef",
   "outputs": [],
   "execution_count": null
  },
  {
   "metadata": {},
   "cell_type": "code",
   "source": [
    "img_comp = img.copy()\n",
    "\n",
    "font = cv2.FONT_HERSHEY_SIMPLEX\n",
    "fontScale = 1\n",
    "color = (255, 0, 0)\n",
    "thickness = 2\n",
    "\n",
    "indices = np.expand_dims(np.arange(hierarchy[0].shape[0]), 1)\n",
    "hierarchy_area = np.concatenate((indices, hierarchy[0], np.expand_dims(areas, 1)), axis=1)\n",
    "parents = hierarchy_area[(hierarchy_area[:, 4] == -1) & (hierarchy_area[:, 5] > 10000)]\n",
    "\n",
    "for index in parents:\n",
    "    index = int(index[0])\n",
    "\n",
    "    print(hierarchy[0][index])\n",
    "    x, y, w, h = cv2.boundingRect(contours[index])\n",
    "    c = random_rgb_color()\n",
    "    cv2.rectangle(img_comp, (x, y), (x+w, y+h), c, 10)\n",
    "    cv2.putText(img_comp, f'{index} - {hierarchy[0][index][3]}', (x, y), font, fontScale, color, thickness, cv2.LINE_AA)\n",
    "\n",
    "    child = hierarchy_area[(hierarchy_area[:, 4] == index) & (hierarchy_area[:, 5] > 10000)]\n",
    "    for ch in child:\n",
    "        ch = int(ch[0])\n",
    "        x, y, w, h = cv2.boundingRect(contours[ch])\n",
    "        cv2.rectangle(img_comp, (x, y), (x+w, y+h), c, 10)\n",
    "\n",
    "Image.fromarray(img_comp)"
   ],
   "id": "c9e7a476289a23c2",
   "outputs": [],
   "execution_count": null
  }
 ],
 "metadata": {
  "kernelspec": {
   "display_name": "Python 3",
   "language": "python",
   "name": "python3"
  },
  "language_info": {
   "codemirror_mode": {
    "name": "ipython",
    "version": 2
   },
   "file_extension": ".py",
   "mimetype": "text/x-python",
   "name": "python",
   "nbconvert_exporter": "python",
   "pygments_lexer": "ipython2",
   "version": "2.7.6"
  }
 },
 "nbformat": 4,
 "nbformat_minor": 5
}
